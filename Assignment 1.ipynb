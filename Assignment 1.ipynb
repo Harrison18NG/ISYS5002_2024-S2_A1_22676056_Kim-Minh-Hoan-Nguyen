{
  "cells": [
    {
      "cell_type": "markdown",
      "metadata": {
        "id": "view-in-github",
        "colab_type": "text"
      },
      "source": [
        "<a href=\"https://colab.research.google.com/github/Harrison18NG/ISYS5002_2024-S2_A1_22676056_Kim-Minh-Hoan-Nguyen/blob/main/Assignment%201.ipynb\" target=\"_parent\"><img src=\"https://colab.research.google.com/assets/colab-badge.svg\" alt=\"Open In Colab\"/></a>"
      ]
    },
    {
      "cell_type": "code",
      "source": [
        "#import csv module\n",
        "import csv"
      ],
      "metadata": {
        "id": "HzELdjjOlqYW"
      },
      "execution_count": null,
      "outputs": []
    },
    {
      "cell_type": "markdown",
      "source": [
        "## Capturing User Input in to CSV file\n",
        "\n"
      ],
      "metadata": {
        "id": "gdPyuSMuGqlT"
      }
    },
    {
      "cell_type": "code",
      "source": [
        "#Writing to a CSV file\n",
        "\n",
        "#open file and write records\n",
        "with open(\"Heart_Condition_Risk.csv\", 'w') as heart_condition_risk:\n",
        "\n",
        "  writer = csv.writer(heart_condition_risk) # 'writer' object write data to the CSV file opened\n",
        "\n",
        "  writer.writerow(['BMI_Category', 'Smoking_Status', 'Alcohol_Assumption', 'Physical_Activity_Status','Heart_Condition_Risk'])\n",
        "\n",
        "  writer.writerow(['Underweight', 'Non-smoker', 'Non-drinker', 'Inactive','Medium'])\n",
        "  writer.writerow(['Underweight', 'Non-smoker', 'Non-drinker', 'Active','Low'])\n",
        "\n",
        "\n",
        "\n",
        "\n"
      ],
      "metadata": {
        "id": "QHHhkU2aD6hU"
      },
      "execution_count": null,
      "outputs": []
    },
    {
      "cell_type": "markdown",
      "source": [
        "### Generalise it - User Input Storage in File\n",
        "\n",
        "Take input form user and write to file"
      ],
      "metadata": {
        "id": "4uhKJwVJGfEh"
      }
    },
    {
      "cell_type": "code",
      "source": [
        " import pandas as pd\n",
        "\n",
        " def get_user_input():\n",
        "  data = []\n",
        "  while True:\n",
        "    height = float(input(\"Enter your height in meters: \"))\n",
        "    weight = float(input(\"Enter your weight in kilograms: \"))\n",
        "    smoking = input(\"Please enter your smoking status (Smoker, Non-smoker):\")\n",
        "    alcohol = input(\"Please enter your alcohol assumption (Drinker, Non-drinker):\")\n",
        "    activity = input(\"Please enter your physical activity status (Active, Inactive):\")\n",
        "\n",
        "    cont= input(\"Do you want to continue? (yes/no): \")\n",
        "    if cont.lower() != 'yes':\n",
        "      break\n",
        "  return data\n",
        " def calculate_bmi(height, weight):\n",
        "    bmi = weight / (height ** 2)\n",
        "    return bmi\n",
        "\n",
        " def save_to_csv(data, filename=\"heart_risk_data.csv\"):\n",
        "  with open(filename, 'w', newline='') as file:\n",
        "    writer = csv.writer(file)\n",
        "    writer.writerow(['BMI_Category', 'Smoking_Status', 'Alcohol_Assumption', 'Physical_Activity_Status','Heart_Condition_Risk'])\n",
        "    writer.writerows(data)"
      ],
      "metadata": {
        "id": "y9nnaTCQJABT"
      },
      "execution_count": null,
      "outputs": []
    },
    {
      "cell_type": "code",
      "source": [
        "# prompt: modify the code above to get the bmi category\n",
        "\n",
        "import csv\n",
        "import pandas as pd\n",
        "\n",
        "# ... (Existing code)\n",
        "\n",
        "def get_bmi_category(bmi):\n",
        "  if bmi < 18.5:\n",
        "    return \"Underweight\"\n",
        "  elif 18.5 <= bmi < 25:\n",
        "    return \"Normal weight\"\n",
        "  elif 25 <= bmi < 30:\n",
        "    return \"Overweight\"\n",
        "  else:\n",
        "    return \"Obese\"\n",
        "def get_user_input():\n",
        "  while True:\n",
        "    height = float(input(\"Enter your height in meters: \"))\n",
        "    weight = float(input(\"Enter your weight in kilograms: \"))\n",
        "    smoking = input(\"Please enter your smoking status (Smoker, Non-smoker):\")\n",
        "    alcohol = input(\"Please enter your alcohol assumption (Drinker, Non-drinker):\")\n",
        "    activity = input(\"Please enter your physical activity status (Active, Inactive):\")\n",
        "\n",
        "\n",
        "    cont= input(\"Do you want to continue? (yes/no): \")\n",
        "    if cont.lower() != 'yes':\n",
        "      break\n",
        "  return height, weight, smoking, alcohol, activity\n",
        "\n",
        "# ... (Rest of the existing code)\n",
        "def calculate_bmi(height, weight):\n",
        "    bmi = weight / (height ** 2)\n",
        "    print(\"Your bmi is\", bmi)\n",
        "    return bmi\n",
        "def save_to_csv(data, filename=\"heart_risk_data.csv\"):\n",
        "  with open(filename, 'w', newline='') as file:\n",
        "    writer = csv.writer(file)\n",
        "    writer.writerow(['BMI_Category', 'Smoking_Status', 'Alcohol_Assumption', 'Physical_Activity_Status','Heart_Condition_Risk'])\n",
        "    writer.writerows(data)"
      ],
      "metadata": {
        "id": "hS4CTcxiFKLU"
      },
      "execution_count": 50,
      "outputs": []
    },
    {
      "cell_type": "code",
      "source": [
        "height, weight, smoking, alcohol, activity = get_user_input()\n",
        "bmi = calculate_bmi(height, weight)\n",
        "print(f\"Your BMI category is: {get_bmi_category(bmi)} \")\n"
      ],
      "metadata": {
        "id": "vhUb4sEVSWV4",
        "outputId": "6444b599-db7a-47c0-f37c-ee3cefbda476",
        "colab": {
          "base_uri": "https://localhost:8080/"
        }
      },
      "execution_count": 52,
      "outputs": [
        {
          "output_type": "stream",
          "name": "stdout",
          "text": [
            "Enter your height in meters: 1.75\n",
            "Enter your weight in kilograms: 80\n",
            "Please enter your smoking status (Smoker, Non-smoker):Non-smoker\n",
            "Please enter your alcohol assumption (Drinker, Non-drinker):Non-drinker\n",
            "Please enter your physical activity status (Active, Inactive):Active\n",
            "Do you want to continue? (yes/no): no\n",
            "Your bmi is 26.122448979591837\n",
            "Your BMI category is: Overweight \n"
          ]
        }
      ]
    },
    {
      "cell_type": "code",
      "source": [
        "import matplotlib.pyplot as plt\n",
        "\n",
        "# Plotting the graph\n",
        "plt.figure(figsize=(5, 5))  # Set the figure size\n",
        "plt.bar(names, sales, color='blue')\n",
        "plt.xlabel('Name')\n",
        "plt.ylabel('Sales')\n",
        "plt.title('Sales by Name')\n",
        "plt.xticks(rotation=45)  # Rotate names for better visibility\n",
        "plt.show()"
      ],
      "metadata": {
        "id": "fNKqKnCr03Hh"
      },
      "execution_count": null,
      "outputs": []
    },
    {
      "cell_type": "markdown",
      "source": [
        "## **Task:** Modify the payslip program to store the calculated commission, tax and net pay"
      ],
      "metadata": {
        "id": "f7P28AlgCeSp"
      }
    },
    {
      "cell_type": "code",
      "source": [],
      "metadata": {
        "id": "DqxqoZ6XDJsy"
      },
      "execution_count": null,
      "outputs": []
    }
  ],
  "metadata": {
    "colab": {
      "provenance": [],
      "include_colab_link": true
    },
    "kernelspec": {
      "display_name": "Python 3",
      "name": "python3"
    },
    "language_info": {
      "name": "python"
    }
  },
  "nbformat": 4,
  "nbformat_minor": 0
}