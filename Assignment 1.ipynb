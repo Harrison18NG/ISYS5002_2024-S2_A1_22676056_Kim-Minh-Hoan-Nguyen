{
  "cells": [
    {
      "cell_type": "markdown",
      "metadata": {
        "id": "view-in-github",
        "colab_type": "text"
      },
      "source": [
        "<a href=\"https://colab.research.google.com/github/Harrison18NG/ISYS5002_2024-S2_A1_22676056_Kim-Minh-Hoan-Nguyen/blob/main/Assignment%201.ipynb\" target=\"_parent\"><img src=\"https://colab.research.google.com/assets/colab-badge.svg\" alt=\"Open In Colab\"/></a>"
      ]
    },
    {
      "cell_type": "markdown",
      "source": [
        "Imports the built-in **`csv` module** for working with CSV (Comma Separated Values) files, which are a common file format used for storing tabular data."
      ],
      "metadata": {
        "id": "W8IeHiwhoKPV"
      }
    },
    {
      "cell_type": "code",
      "source": [
        "#import csv module\n",
        "import csv"
      ],
      "metadata": {
        "id": "HzELdjjOlqYW"
      },
      "execution_count": null,
      "outputs": []
    },
    {
      "cell_type": "markdown",
      "source": [
        "## Writing data to file"
      ],
      "metadata": {
        "id": "gdPyuSMuGqlT"
      }
    },
    {
      "cell_type": "code",
      "source": [
        "#Writing to a CSV file\n",
        "\n",
        "#open file and write records\n",
        "with open(\"sales_data.csv\", 'w') as sales_data:\n",
        "\n",
        "  '''\n",
        "  Creates a writer object which will convert the user’s data into\n",
        "  delimited strings on the given file-like object (payslip_data).\n",
        "  '''\n",
        "  writer = csv.writer(sales_data) # 'writer' object write data to the CSV file opened\n",
        "\n",
        "  writer.writerow(['name', 'salary', 'sales'])\n",
        "\n",
        "  writer.writerow(['Ram', '25000', '20000'])\n",
        "  writer.writerow(['Radha', '30000', '40000'])\n",
        "\n",
        "  # continue for for three more data\n",
        "\n"
      ],
      "metadata": {
        "id": "QHHhkU2aD6hU"
      },
      "execution_count": null,
      "outputs": []
    },
    {
      "cell_type": "markdown",
      "source": [
        "### Generalise it - User Input Storage in File\n",
        "\n",
        "Take input form user and write to file"
      ],
      "metadata": {
        "id": "4uhKJwVJGfEh"
      }
    },
    {
      "cell_type": "code",
      "source": [
        "\n",
        "with open(\"payslip_data.csv\", 'w') as payslip_data:\n",
        "  writer = csv.writer(payslip_data) # 'writer' object write data to the CSV file opened\n",
        "  writer.writerow(['name', 'salary', 'sales', 'comm_rate'])\n",
        "\n",
        "  # get user input - name\n",
        "  name = input(\"Please enter name: \")\n",
        "\n",
        "  # get user input for salary\n",
        "  salary = int(input(\"Please enter salary: \"))\n",
        "\n",
        "  # get user input for sales\n",
        "  sales = int(input(\"Please enter sales: \"))\n",
        "\n",
        "  # get user input for commission\n",
        "  comm_rate = float(input(\"Please enter commission rate: \"))\n",
        "\n",
        "  # write user data to file\n",
        "  writer.writerow([name, salary, sales, comm_rate])\n",
        "\n",
        "\n"
      ],
      "metadata": {
        "id": "y9nnaTCQJABT"
      },
      "execution_count": null,
      "outputs": []
    },
    {
      "cell_type": "markdown",
      "source": [
        "### Dynamic Data Collection\n",
        "Modify the code to prompt the user to decide if they want to continue."
      ],
      "metadata": {
        "id": "66kVOTaSJUUT"
      }
    },
    {
      "cell_type": "code",
      "source": [],
      "metadata": {
        "id": "hS4CTcxiFKLU"
      },
      "execution_count": null,
      "outputs": []
    },
    {
      "cell_type": "markdown",
      "source": [
        "## Reading data from file"
      ],
      "metadata": {
        "id": "n5ezYXDPGxMK"
      }
    },
    {
      "cell_type": "code",
      "source": [
        "with open('sales_data.csv', 'r') as file:\n",
        "    csvreader = csv.reader(file)\n",
        "\n",
        "    for row in csvreader:\n",
        "        print(row) # print each row in the file\n"
      ],
      "metadata": {
        "id": "Uqb_T9GyyiQ7"
      },
      "execution_count": null,
      "outputs": []
    },
    {
      "cell_type": "code",
      "source": [
        "# remove the header\n",
        "with open('sales_data.csv', 'r') as file:\n",
        "    csvreader = csv.reader(file)\n",
        "    next(csvreader)  # Skip the header row\n",
        "\n",
        "    for row in csvreader:\n",
        "        print(row) # print each row in the file"
      ],
      "metadata": {
        "id": "SusT2sSN6WQK"
      },
      "execution_count": null,
      "outputs": []
    },
    {
      "cell_type": "markdown",
      "source": [
        "### File Data Reading and Processing"
      ],
      "metadata": {
        "id": "88ulKsDaG2qr"
      }
    },
    {
      "cell_type": "code",
      "source": [
        "import csv\n",
        "\n",
        "names = []\n",
        "sales = []\n",
        "\n",
        "# Read data from the CSV file\n",
        "with open('sales_data.csv', 'r') as file:\n",
        "    reader = csv.reader(file)\n",
        "    next(reader)  # Skip the header row\n",
        "    for row in reader:\n",
        "        names.append(row[0])  # Name is in the first column\n",
        "        sales.append(int(row[2]))  # Sales are in the third column\n",
        "\n",
        "print(names)\n",
        "print(sales)\n"
      ],
      "metadata": {
        "id": "cOlKHMF_0jUq"
      },
      "execution_count": null,
      "outputs": []
    },
    {
      "cell_type": "markdown",
      "source": [
        "### Plotting graph"
      ],
      "metadata": {
        "id": "tRGjfkR7Jm74"
      }
    },
    {
      "cell_type": "code",
      "source": [
        "import matplotlib.pyplot as plt\n",
        "\n",
        "# Plotting the graph\n",
        "plt.figure(figsize=(5, 5))  # Set the figure size\n",
        "plt.bar(names, sales, color='blue')\n",
        "plt.xlabel('Name')\n",
        "plt.ylabel('Sales')\n",
        "plt.title('Sales by Name')\n",
        "plt.xticks(rotation=45)  # Rotate names for better visibility\n",
        "plt.show()"
      ],
      "metadata": {
        "id": "fNKqKnCr03Hh"
      },
      "execution_count": null,
      "outputs": []
    },
    {
      "cell_type": "markdown",
      "source": [
        "## **Task:** Modify the payslip program to store the calculated commission, tax and net pay"
      ],
      "metadata": {
        "id": "f7P28AlgCeSp"
      }
    },
    {
      "cell_type": "code",
      "source": [],
      "metadata": {
        "id": "DqxqoZ6XDJsy"
      },
      "execution_count": null,
      "outputs": []
    }
  ],
  "metadata": {
    "colab": {
      "provenance": [],
      "include_colab_link": true
    },
    "kernelspec": {
      "display_name": "Python 3",
      "name": "python3"
    },
    "language_info": {
      "name": "python"
    }
  },
  "nbformat": 4,
  "nbformat_minor": 0
}