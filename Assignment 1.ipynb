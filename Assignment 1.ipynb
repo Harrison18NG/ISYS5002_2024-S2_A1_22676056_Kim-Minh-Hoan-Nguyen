{
  "cells": [
    {
      "cell_type": "markdown",
      "metadata": {
        "id": "view-in-github",
        "colab_type": "text"
      },
      "source": [
        "<a href=\"https://colab.research.google.com/github/Harrison18NG/ISYS5002_2024-S2_A1_22676056_Kim-Minh-Hoan-Nguyen/blob/main/Assignment%201.ipynb\" target=\"_parent\"><img src=\"https://colab.research.google.com/assets/colab-badge.svg\" alt=\"Open In Colab\"/></a>"
      ]
    },
    {
      "cell_type": "code",
      "source": [
        "#import csv module\n",
        "import csv"
      ],
      "metadata": {
        "id": "HzELdjjOlqYW"
      },
      "execution_count": null,
      "outputs": []
    },
    {
      "cell_type": "markdown",
      "source": [
        "*** Heart Prediction Risk Table ***\n",
        "\n"
      ],
      "metadata": {
        "id": "gdPyuSMuGqlT"
      }
    },
    {
      "cell_type": "code",
      "source": [
        "#Writing to a CSV file, using pandas to stored the heart prediction table for later used\n",
        "\n",
        "#open file and write records\n",
        "import pandas as pd\n",
        "\n",
        "data = {\n",
        "  \"BMI_Category\": [\"Underweight\", \"Underweight\",\"Underweight\",\"Underweight\",\"Underweight\",\"Underweight\",\"Underweight\",\"Underweight\",\n",
        "                      \"Normal\", \"Normal\", \"Normal\", \"Normal\", \"Normal\", \"Normal\", \"Normal\", \"Normal\",\n",
        "                      \"Overweight\", \"Overweight\", \"Overweight\", \"Overweight\", \"Overweight\", \"Overweight\", \"Overweight\", \"Overweight\",\n",
        "                      \"Obesity\", \"Obesity\", \"Obesity\", \"Obesity\", \"Obesity\", \"Obesity\",\"Obesity\", \"Obesity\"],\n",
        "\n",
        "    \"Smoking_Status\": [\"Non-smoker\",\"Non-smoker\",\"Non-smoker\",\"Non-smoker\",\n",
        "                        \"Smoker\",\"Smoker\",\"Smoker\",\"Smoker\",\n",
        "                        \"Non-smoker\",\"Non-smoker\",\"Non-smoker\",\"Non-smoker\",\n",
        "                        \"Smoker\",\"Smoker\",\"Smoker\",\"Smoker\",\n",
        "                        \"Non-smoker\",\"Non-smoker\",\"Non-smoker\",\"Non-smoker\",\n",
        "                        \"Smoker\",\"Smoker\",\"Smoker\",\"Smoker\",\n",
        "                         \"Non-smoker\",\"Non-smoker\",\"Non-smoker\",\"Non-smoker\",\n",
        "                        \"Smoker\",\"Smoker\",\"Smoker\",\"Smoker\"],\n",
        "\n",
        "    \"Alcohol_Assumption\": [ \"Non-drinker\",\"Non-drinker\",\"Drinker\",\"Drinker\",\n",
        "                            \"Non-drinker\",\"Non-drinker\",\"Drinker\",\"Drinker\",\n",
        "                            \"Non-drinker\",\"Non-drinker\",\"Drinker\",\"Drinker\",\n",
        "                            \"Non-drinker\",\"Non-drinker\",\"Drinker\",\"Drinker\",\n",
        "                            \"Non-drinker\",\"Non-drinker\",\"Drinker\",\"Drinker\",\n",
        "                            \"Non-drinker\",\"Non-drinker\",\"Drinker\",\"Drinker\",\n",
        "                            \"Non-drinker\",\"Non-drinker\",\"Drinker\",\"Drinker\",\n",
        "                            \"Non-drinker\",\"Non-drinker\",\"Drinker\",\"Drinker\"],\n",
        "\n",
        "     \"Physical_Activity_Status\": [\"Inactive\",\"Active\"]*16,\n",
        "\n",
        "     \"Heart_condition_risk\": [\"Medium\", \"Low\",\"Medium\", \"Low\",\"High\",\"High\",\"High\",\"High\",\n",
        "                              \"Medium\",\"Low\",\"Medium\",\"Low\",\"Medium\",\"Medium\",\"High\",\"Medium\",\n",
        "                              \"Medium\",\"Medium\",\"Medium\",\"Medium\",\"High\",\"High\",\"High\",\"High\",\n",
        "                              \"High\",\"High\",\"High\",\"High\",\"High\",\"High\",\"High\",\"High\"]}\n",
        "df = pd.DataFrame(data)\n",
        "df.to_csv(\"heart_condition_risk_data.csv\", index=False)\n",
        "print(df)\n",
        "\n",
        "\n"
      ],
      "metadata": {
        "id": "QHHhkU2aD6hU",
        "outputId": "431edd33-cea1-420f-f377-27750d7d9806",
        "colab": {
          "base_uri": "https://localhost:8080/"
        }
      },
      "execution_count": 1,
      "outputs": [
        {
          "output_type": "stream",
          "name": "stdout",
          "text": [
            "   BMI_Category Smoking_Status Alcohol_Assumption Physical_Activity_Status  \\\n",
            "0   Underweight     Non-smoker        Non-drinker                 Inactive   \n",
            "1   Underweight     Non-smoker        Non-drinker                   Active   \n",
            "2   Underweight     Non-smoker            Drinker                 Inactive   \n",
            "3   Underweight     Non-smoker            Drinker                   Active   \n",
            "4   Underweight         Smoker        Non-drinker                 Inactive   \n",
            "5   Underweight         Smoker        Non-drinker                   Active   \n",
            "6   Underweight         Smoker            Drinker                 Inactive   \n",
            "7   Underweight         Smoker            Drinker                   Active   \n",
            "8        Normal     Non-smoker        Non-drinker                 Inactive   \n",
            "9        Normal     Non-smoker        Non-drinker                   Active   \n",
            "10       Normal     Non-smoker            Drinker                 Inactive   \n",
            "11       Normal     Non-smoker            Drinker                   Active   \n",
            "12       Normal         Smoker        Non-drinker                 Inactive   \n",
            "13       Normal         Smoker        Non-drinker                   Active   \n",
            "14       Normal         Smoker            Drinker                 Inactive   \n",
            "15       Normal         Smoker            Drinker                   Active   \n",
            "16   Overweight     Non-smoker        Non-drinker                 Inactive   \n",
            "17   Overweight     Non-smoker        Non-drinker                   Active   \n",
            "18   Overweight     Non-smoker            Drinker                 Inactive   \n",
            "19   Overweight     Non-smoker            Drinker                   Active   \n",
            "20   Overweight         Smoker        Non-drinker                 Inactive   \n",
            "21   Overweight         Smoker        Non-drinker                   Active   \n",
            "22   Overweight         Smoker            Drinker                 Inactive   \n",
            "23   Overweight         Smoker            Drinker                   Active   \n",
            "24      Obesity     Non-smoker        Non-drinker                 Inactive   \n",
            "25      Obesity     Non-smoker        Non-drinker                   Active   \n",
            "26      Obesity     Non-smoker            Drinker                 Inactive   \n",
            "27      Obesity     Non-smoker            Drinker                   Active   \n",
            "28      Obesity         Smoker        Non-drinker                 Inactive   \n",
            "29      Obesity         Smoker        Non-drinker                   Active   \n",
            "30      Obesity         Smoker            Drinker                 Inactive   \n",
            "31      Obesity         Smoker            Drinker                   Active   \n",
            "\n",
            "   Heart_condition_risk  \n",
            "0                Medium  \n",
            "1                   Low  \n",
            "2                Medium  \n",
            "3                   Low  \n",
            "4                  High  \n",
            "5                  High  \n",
            "6                  High  \n",
            "7                  High  \n",
            "8                Medium  \n",
            "9                   Low  \n",
            "10               Medium  \n",
            "11                  Low  \n",
            "12               Medium  \n",
            "13               Medium  \n",
            "14                 High  \n",
            "15               Medium  \n",
            "16               Medium  \n",
            "17               Medium  \n",
            "18               Medium  \n",
            "19               Medium  \n",
            "20                 High  \n",
            "21                 High  \n",
            "22                 High  \n",
            "23                 High  \n",
            "24                 High  \n",
            "25                 High  \n",
            "26                 High  \n",
            "27                 High  \n",
            "28                 High  \n",
            "29                 High  \n",
            "30                 High  \n",
            "31                 High  \n"
          ]
        }
      ]
    },
    {
      "cell_type": "markdown",
      "source": [
        "### Generalise it - User Input Storage in File\n",
        "\n",
        "Collecting user input for analyzing"
      ],
      "metadata": {
        "id": "4uhKJwVJGfEh"
      }
    },
    {
      "cell_type": "code",
      "source": [
        "# Recording data from user for prediciton process\n",
        "def get_user_input():\n",
        "  data = []\n",
        "  while True:\n",
        "    height = float(input(\"Enter your height in meters: \"))\n",
        "    weight = float(input(\"Enter your weight in kilograms: \"))\n",
        "    smoking = input(\"Please enter your smoking status (Smoker, Non-smoker):\")\n",
        "    alcohol = input(\"Please enter your alcohol assumption (Drinker, Non-drinker):\")\n",
        "    activity = input(\"Please enter your physical activity status (Active, Inactive):\")\n",
        "    data.append([height, weight, smoking, alcohol, activity])\n",
        "    cont= input(\"Do you want to continue? (yes/no): \")\n",
        "    if cont.lower() != 'yes':\n",
        "      break\n",
        "  return height, weight, smoking, alcohol, activity\n",
        "#Calculate the bmi based on the height and weight data provided by user\n",
        "def calculate_bmi(height, weight): #Compute BMI based on user input above\n",
        "    bmi = weight / (height ** 2)\n",
        "    return bmi\n",
        "#Stored data to csv file\n",
        "def save_to_csv(data, filename=\"user_input.csv\"):\n",
        "  with open(filename, 'w', newline='') as file:\n",
        "    writer = csv.writer(file)\n",
        "    writer.writerow(['BMI_Category', 'Smoking_Status', 'Alcohol_Assumption', 'Physical_Activity_Status','Heart_Condition_Risk'])\n",
        "    writer.writerows(data)"
      ],
      "metadata": {
        "id": "y9nnaTCQJABT"
      },
      "execution_count": 2,
      "outputs": []
    },
    {
      "cell_type": "markdown",
      "source": [
        "*** Classify User based on BMI Calculation ***\n",
        "\n",
        "GEN AI tool: COLAB\n",
        "\n",
        "GEN AI PROMPT: Modify the code above to get the BMI Category\n",
        "\n",
        "GEN AI RESPONSE: Code generate by Colab - as below\n"
      ],
      "metadata": {
        "id": "ZjWtMgUNfygY"
      }
    },
    {
      "cell_type": "code",
      "source": [
        "# prompt: modify the code above to get the bmi category\n",
        "\n",
        "import csv\n",
        "import pandas as pd\n",
        "\n",
        "# ... (Existing code)\n",
        "# Classify bmi category based on the bmi calculation above\n",
        "def get_bmi_category(bmi):\n",
        "  if bmi < 18.5:\n",
        "    return \"Underweight\"\n",
        "  elif 18.5 <= bmi < 25:\n",
        "    return \"Normal\"\n",
        "  elif 25 <= bmi < 30:\n",
        "    return \"Overweight\"\n",
        "  else:\n",
        "    return \"Obesity\"\n",
        "def get_user_input():\n",
        "  data = []\n",
        "  while True:\n",
        "    height = float(input(\"Enter your height in meters: \"))\n",
        "    weight = float(input(\"Enter your weight in kilograms: \"))\n",
        "    smoking = input(\"Please enter your smoking status (Smoker, Non-smoker):\")\n",
        "    alcohol = input(\"Please enter your alcohol assumption (Drinker, Non-drinker):\")\n",
        "    activity = input(\"Please enter your physical activity status (Active, Inactive):\")\n",
        "    data.append([height, weight, smoking, alcohol, activity])\n",
        "\n",
        "    cont= input(\"Do you want to continue? (yes/no): \")\n",
        "    if cont.lower() != 'yes':\n",
        "      break\n",
        "  return height, weight, smoking, alcohol, activity\n",
        "\n",
        "# ... (Rest of the existing code)\n",
        "def calculate_bmi(height, weight):\n",
        "    bmi = weight / (height ** 2)\n",
        "    print(\"Your bmi is\", bmi)\n",
        "    return bmi\n",
        "def save_to_csv(data, filename=\"user_input.csv\"):\n",
        "  with open(filename, 'w', newline='') as file:\n",
        "    writer = csv.writer(file)\n",
        "    writer.writerow(['BMI_Category', 'Smoking_Status', 'Alcohol_Assumption', 'Physical_Activity_Status','Heart_Condition_Risk'])\n",
        "    writer.writerows(data)"
      ],
      "metadata": {
        "id": "hS4CTcxiFKLU"
      },
      "execution_count": 3,
      "outputs": []
    },
    {
      "cell_type": "code",
      "source": [
        "height, weight, smoking, alcohol, activity = get_user_input()\n",
        "bmi = calculate_bmi(height, weight)\n",
        "print(f\"Your BMI category is: {get_bmi_category(bmi)} \")\n"
      ],
      "metadata": {
        "id": "vhUb4sEVSWV4",
        "outputId": "a92f942b-e3be-4122-82fa-1e97902eb338",
        "colab": {
          "base_uri": "https://localhost:8080/"
        }
      },
      "execution_count": 38,
      "outputs": [
        {
          "output_type": "stream",
          "name": "stdout",
          "text": [
            "Enter your height in meters: 1.8\n",
            "Enter your weight in kilograms: 70\n",
            "Please enter your smoking status (Smoker, Non-smoker):Smoker\n",
            "Please enter your alcohol assumption (Drinker, Non-drinker):Drinker\n",
            "Please enter your physical activity status (Active, Inactive):Active\n",
            "Your bmi is 21.604938271604937\n",
            "Do you want to continue? (yes/no): no\n",
            "Your bmi is 21.604938271604937\n",
            "Your BMI category is: Normal \n"
          ]
        }
      ]
    },
    {
      "cell_type": "markdown",
      "source": [
        "GEN AI EFFECTIVENESS:\n",
        "```\n",
        "def get_bmi_category(bmi):                                                                  \n",
        "  if bmi < 18.5:\n",
        "\n",
        "    return \"Underweight\"\n",
        "  elif 18.5 <= bmi < 25:\n",
        "\n",
        "    return \"Normal weight\"\n",
        "  elif 25 <= bmi < 30:\n",
        "\n",
        "    return \"Overweight\"\n",
        "  else:\n",
        "  \n",
        "    return \"Obesity\"\n",
        "```"
      ],
      "metadata": {
        "id": "KXv3p3Q-gUM2"
      }
    },
    {
      "cell_type": "markdown",
      "source": [
        "*** Matching User input with Heart Prediciton Risk Table ***\n",
        "\n",
        "GEN AI TOOL: COLAB\n",
        "\n",
        "GEN AI PROMPT: Modify the code above to match the user data with heart risk prediction table\n",
        "\n",
        "GEN AI RESPONSE: Code generate by Colab AI - as below\n",
        "\n",
        "\n"
      ],
      "metadata": {
        "id": "2dUwv3HSj5NY"
      }
    },
    {
      "cell_type": "code",
      "source": [
        "# prompt: Modify the code above to match the user data with heart risk prediction table\n",
        "\n",
        "import pandas as pd\n",
        "def predict_heart_risk(bmi_category, smoking, alcohol, activity):\n",
        "  # Load the heart risk prediction table (replace with actual loading logic)\n",
        "  df = pd.read_csv(\"heart_condition_risk_data.csv\")\n",
        "\n",
        "  # Filter the table based on user input\n",
        "  matching_rows = df[\n",
        "      (df['BMI_Category'] == bmi_category) &\n",
        "      (df['Smoking_Status'] == smoking) &\n",
        "      (df['Alcohol_Assumption'] == alcohol) &\n",
        "      (df['Physical_Activity_Status'] == activity)\n",
        "  ]\n",
        "\n",
        "  # Determine the risk level\n",
        "  if matching_rows.empty:\n",
        "    return \"Unknown\"\n",
        "  else:\n",
        "    return matching_rows['Heart_condition_risk'].iloc[0]\n",
        "\n",
        "# ... (Rest of the existing code)\n",
        "\n",
        "height, weight, smoking, alcohol, activity = get_user_input()\n",
        "bmi = calculate_bmi(height, weight)\n",
        "bmi_category = get_bmi_category(bmi)\n",
        "risk = predict_heart_risk(bmi_category, smoking, alcohol, activity)\n",
        "print(f\"Your BMI category is: {bmi_category}\")\n",
        "print(f\"Your predicted heart condition risk is: {risk}\")\n"
      ],
      "metadata": {
        "colab": {
          "base_uri": "https://localhost:8080/"
        },
        "id": "7jQdjKlwhR8C",
        "outputId": "8a5a1e72-6d42-4793-9c6b-4155b0a5f2b1"
      },
      "execution_count": 4,
      "outputs": [
        {
          "output_type": "stream",
          "name": "stdout",
          "text": [
            "Enter your height in meters: 1.7\n",
            "Enter your weight in kilograms: 80\n",
            "Please enter your smoking status (Smoker, Non-smoker):Smoker\n",
            "Please enter your alcohol assumption (Drinker, Non-drinker):Drinker\n",
            "Please enter your physical activity status (Active, Inactive):Active\n",
            "Do you want to continue? (yes/no): no\n",
            "Your bmi is 27.68166089965398\n",
            "Your BMI category is: Overweight\n",
            "Your predicted heart condition risk is: High\n"
          ]
        }
      ]
    },
    {
      "cell_type": "markdown",
      "source": [
        "GEN AI EFFECTIVENESS:\n",
        "```\n",
        "import pandas as pd\n",
        "\n",
        "def predict_heart_risk(bmi_category, smoking, alcohol, activity):\n",
        "\n",
        "df = pd.read_csv(\"heart_condition_risk_data.csv\")\n",
        "\n",
        "  # Filter the table based on user input\n",
        "\n",
        "  matching_rows = df[\n",
        "      (df['BMI_Category'] == bmi_category) &\n",
        "      (df['Smoking_Status'] == smoking) &\n",
        "      (df['Alcohol_Assumption'] == alcohol) &\n",
        "      (df['Physical_Activity_Status'] == activity) ]\n",
        "\n",
        "  # Determine the risk level\n",
        "\n",
        "  if matching_rows.empty:\n",
        "\n",
        "    return \"Unknown\"\n",
        "\n",
        "  else:\n",
        "\n",
        "    return matching_rows['Heart_condition_risk'].iloc[0]\n",
        "```"
      ],
      "metadata": {
        "id": "lrIqstLRkbqq"
      }
    },
    {
      "cell_type": "markdown",
      "source": [
        "*** Storing user data into csv file ***\n",
        "\n",
        "GEN AI TOOL: COLAB\n",
        "\n",
        "GEN AI PROMPT: Modify the code above to fix the row and collum when storing user input into csv file\n",
        "\n",
        "GEN AI RESPONSE: Code generate by Colab AI - as below"
      ],
      "metadata": {
        "id": "GUuS_Mnp5Wfx"
      }
    },
    {
      "cell_type": "code",
      "source": [
        "# prompt: Modify the code above to fix the row and collum when storing user input into csv file\n",
        "\n",
        "import csv\n",
        "import pandas as pd\n",
        "\n",
        "# ... (Existing code)\n",
        "\n",
        "# Recording data from user for prediciton process\n",
        "def get_user_input():\n",
        "  data = []\n",
        "  while True:\n",
        "   try:\n",
        "    height = float(input(\"Enter your height in meters: \"))\n",
        "    weight = float(input(\"Enter your weight in kilograms: \"))\n",
        "    smoking = input(\"Please enter your smoking status (Smoker, Non-smoker):\")\n",
        "    alcohol = input(\"Please enter your alcohol assumption (Drinker, Non-drinker):\")\n",
        "    activity = input(\"Please enter your physical activity status (Active, Inactive):\")\n",
        "\n",
        "    bmi = calculate_bmi(height, weight)\n",
        "    bmi_category = get_bmi_category(bmi)\n",
        "    risk = predict_heart_risk(bmi_category, smoking, alcohol, activity)\n",
        "\n",
        "    data.append([bmi_category, smoking, alcohol, activity, risk])\n",
        "\n",
        "    cont= input(\"Do you want to continue? (yes/no): \")\n",
        "    if cont.lower() != 'yes':\n",
        "      break\n",
        "   except ValueError:\n",
        "    print(\"Invalid number. Please key-in numeric value for height and weight\")\n",
        "\n",
        "  return data\n",
        "\n",
        "# ... (Rest of the existing code)\n",
        "\n",
        "data = get_user_input()\n",
        "save_to_csv(data, filename=\"user_input.csv\")\n",
        "print(f\"Your BMI category is: {bmi_category}\")\n",
        "print(f\"Your predicted heart condition risk is: {risk}\")"
      ],
      "metadata": {
        "colab": {
          "base_uri": "https://localhost:8080/"
        },
        "id": "s7B8ota31Oly",
        "outputId": "c2beab0d-e681-44c6-be54-84ec77207166"
      },
      "execution_count": 8,
      "outputs": [
        {
          "output_type": "stream",
          "name": "stdout",
          "text": [
            "Enter your height in meters: 1.8\n",
            "Enter your weight in kilograms: 100\n",
            "Please enter your smoking status (Smoker, Non-smoker):Smoker\n",
            "Please enter your alcohol assumption (Drinker, Non-drinker):Drinker\n",
            "Please enter your physical activity status (Active, Inactive):Active\n",
            "Your bmi is 30.864197530864196\n",
            "Do you want to continue? (yes/no): yes\n",
            "Enter your height in meters: 1.8\n",
            "Enter your weight in kilograms: 95\n",
            "Please enter your smoking status (Smoker, Non-smoker):Smoker\n",
            "Please enter your alcohol assumption (Drinker, Non-drinker):Drinker\n",
            "Please enter your physical activity status (Active, Inactive):Active\n",
            "Your bmi is 29.320987654320987\n",
            "Do you want to continue? (yes/no): yes\n",
            "Enter your height in meters: 1.8\n",
            "Enter your weight in kilograms: 90\n",
            "Please enter your smoking status (Smoker, Non-smoker):Non-smoker\n",
            "Please enter your alcohol assumption (Drinker, Non-drinker):Drinker\n",
            "Please enter your physical activity status (Active, Inactive):Active\n",
            "Your bmi is 27.777777777777775\n",
            "Do you want to continue? (yes/no): yes\n",
            "Enter your height in meters: 1.8\n",
            "Enter your weight in kilograms: 85\n",
            "Please enter your smoking status (Smoker, Non-smoker):Non-smoker\n",
            "Please enter your alcohol assumption (Drinker, Non-drinker):Non-drinker\n",
            "Please enter your physical activity status (Active, Inactive):Active\n",
            "Your bmi is 26.234567901234566\n",
            "Do you want to continue? (yes/no): yes\n",
            "Enter your height in meters: 1.8\n",
            "Enter your weight in kilograms: 80\n",
            "Please enter your smoking status (Smoker, Non-smoker):Non-smoker\n",
            "Please enter your alcohol assumption (Drinker, Non-drinker):Non-drinker\n",
            "Please enter your physical activity status (Active, Inactive):Active\n",
            "Your bmi is 24.691358024691358\n",
            "Do you want to continue? (yes/no): yes\n",
            "Enter your height in meters: 1.8\n",
            "Enter your weight in kilograms: 75\n",
            "Please enter your smoking status (Smoker, Non-smoker):Smoker\n",
            "Please enter your alcohol assumption (Drinker, Non-drinker):Non-drinker\n",
            "Please enter your physical activity status (Active, Inactive):Inactive\n",
            "Your bmi is 23.148148148148145\n",
            "Do you want to continue? (yes/no): yes\n",
            "Enter your height in meters: 1.8\n",
            "Enter your weight in kilograms: 75\n",
            "Please enter your smoking status (Smoker, Non-smoker):Non-smoker\n",
            "Please enter your alcohol assumption (Drinker, Non-drinker):Drinker\n",
            "Please enter your physical activity status (Active, Inactive):Inactive\n",
            "Your bmi is 23.148148148148145\n",
            "Do you want to continue? (yes/no): yes\n",
            "Enter your height in meters: 1.8\n",
            "Enter your weight in kilograms: 75\n",
            "Please enter your smoking status (Smoker, Non-smoker):Non-smoker\n",
            "Please enter your alcohol assumption (Drinker, Non-drinker):Non-drinker\n",
            "Please enter your physical activity status (Active, Inactive):Active\n",
            "Your bmi is 23.148148148148145\n",
            "Do you want to continue? (yes/no): no\n",
            "Your BMI category is: Overweight\n",
            "Your predicted heart condition risk is: High\n"
          ]
        }
      ]
    },
    {
      "cell_type": "markdown",
      "source": [
        "GEN AI EFFECTIVENESS:\n",
        "```\n",
        "data = get_user_input()\n",
        "save_to_csv(data, filename=\"user_input.csv\")\n",
        "```"
      ],
      "metadata": {
        "id": "h21JF2ld5uGH"
      }
    },
    {
      "cell_type": "markdown",
      "source": [
        "*** Testing and Debugging ***"
      ],
      "metadata": {
        "id": "ETDLU50-Rphz"
      }
    },
    {
      "cell_type": "code",
      "source": [
        "import csv\n",
        "import pandas as pd\n",
        "import pdb\n",
        "\n",
        "\n",
        "# Recording data from user for prediciton process\n",
        "def get_user_input():\n",
        "  breakpoint() #Debugging the code using pdb function\n",
        "  data = []\n",
        "  while True:\n",
        "    height = float(input(\"Enter your height in meters: \"))\n",
        "    weight = float(input(\"Enter your weight in kilograms: \"))\n",
        "    smoking = input(\"Please enter your smoking status (Smoker, Non-smoker):\")\n",
        "    alcohol = input(\"Please enter your alcohol assumption (Drinker, Non-drinker):\")\n",
        "    activity = input(\"Please enter your physical activity status (Active, Inactive):\")\n",
        "    data.append([height, weight, smoking, alcohol, activity])\n",
        "    cont= input(\"Do you want to continue? (yes/no): \")\n",
        "    if cont.lower() != 'yes':\n",
        "      break\n",
        "  return height, weight, smoking, alcohol, activity\n",
        "#Calculate the bmi based on the height and weight data provided by user\n",
        "def calculate_bmi(height, weight):\n",
        "    bmi = weight / (height ** 2)\n",
        "    return bmi\n",
        "# Classify bmi category based on the bmi calculation above\n",
        "def get_bmi_category(bmi):\n",
        "  if bmi < 18.5:\n",
        "    return \"Underweight\"\n",
        "  elif 18.5 <= bmi < 25:\n",
        "    return \"Normal\"\n",
        "  elif 25 <= bmi < 30:\n",
        "    return \"Overweight\"\n",
        "  else:\n",
        "    return \"Obesity\"\n",
        "def predict_heart_risk(bmi_category, smoking, alcohol, activity):\n",
        "  # Load the heart risk prediction table (replace with actual loading logic)\n",
        "  df = pd.read_csv(\"heart_condition_risk_data.csv\")\n",
        "\n",
        "  # Filter the table based on user input\n",
        "  matching_rows = df[\n",
        "      (df['BMI_Category'] == bmi_category) &\n",
        "      (df['Smoking_Status'] == smoking) &\n",
        "      (df['Alcohol_Assumption'] == alcohol) &\n",
        "      (df['Physical_Activity_Status'] == activity)\n",
        "  ]\n",
        "\n",
        "  # Determine the risk level\n",
        "  if matching_rows.empty:\n",
        "    return \"Unknown\"\n",
        "  else:\n",
        "    return matching_rows['Heart_condition_risk'].iloc[0]\n",
        "#Stored data to csv file\n",
        "def save_to_csv(data, filename=\"user_input.csv\"):\n",
        "  with open(filename, 'w', newline='') as file:\n",
        "    writer = csv.writer(file)\n",
        "    writer.writerow(['BMI_Category', 'Smoking_Status', 'Alcohol_Assumption', 'Physical_Activity_Status','Heart_Condition_Risk'])\n",
        "    writer.writerows(data)"
      ],
      "metadata": {
        "id": "zpN-nILmQFO2"
      },
      "execution_count": null,
      "outputs": []
    },
    {
      "cell_type": "markdown",
      "source": [
        "*** VIZUALIZATION USER DATA FOR ASSESSMENT ***"
      ],
      "metadata": {
        "id": "WFS85B34k81v"
      }
    },
    {
      "cell_type": "code",
      "source": [
        "import matplotlib.pyplot as plt\n",
        "import pandas as pd\n",
        "import seaborn as sns\n",
        "\n",
        "df = pd.read_csv(\"user_input.csv\")\n",
        "df.head()\n",
        "\n"
      ],
      "metadata": {
        "id": "UwZGc6uBI_wc",
        "outputId": "abc20146-17ab-4ab5-efee-46a735857dd0",
        "colab": {
          "base_uri": "https://localhost:8080/",
          "height": 206
        }
      },
      "execution_count": 11,
      "outputs": [
        {
          "output_type": "execute_result",
          "data": {
            "text/plain": [
              "  BMI_Category Smoking_Status Alcohol_Assumption Physical_Activity_Status  \\\n",
              "0      Obesity         Smoker            Drinker                   Active   \n",
              "1   Overweight         Smoker            Drinker                   Active   \n",
              "2   Overweight     Non-smoker            Drinker                   Active   \n",
              "3   Overweight     Non-smoker        Non-drinker                   Active   \n",
              "4       Normal     Non-smoker        Non-drinker                   Active   \n",
              "\n",
              "  Heart_Condition_Risk  \n",
              "0                 High  \n",
              "1                 High  \n",
              "2               Medium  \n",
              "3               Medium  \n",
              "4                  Low  "
            ],
            "text/html": [
              "\n",
              "  <div id=\"df-68556f85-e09c-49c8-aa4f-3e5c3b3e9873\" class=\"colab-df-container\">\n",
              "    <div>\n",
              "<style scoped>\n",
              "    .dataframe tbody tr th:only-of-type {\n",
              "        vertical-align: middle;\n",
              "    }\n",
              "\n",
              "    .dataframe tbody tr th {\n",
              "        vertical-align: top;\n",
              "    }\n",
              "\n",
              "    .dataframe thead th {\n",
              "        text-align: right;\n",
              "    }\n",
              "</style>\n",
              "<table border=\"1\" class=\"dataframe\">\n",
              "  <thead>\n",
              "    <tr style=\"text-align: right;\">\n",
              "      <th></th>\n",
              "      <th>BMI_Category</th>\n",
              "      <th>Smoking_Status</th>\n",
              "      <th>Alcohol_Assumption</th>\n",
              "      <th>Physical_Activity_Status</th>\n",
              "      <th>Heart_Condition_Risk</th>\n",
              "    </tr>\n",
              "  </thead>\n",
              "  <tbody>\n",
              "    <tr>\n",
              "      <th>0</th>\n",
              "      <td>Obesity</td>\n",
              "      <td>Smoker</td>\n",
              "      <td>Drinker</td>\n",
              "      <td>Active</td>\n",
              "      <td>High</td>\n",
              "    </tr>\n",
              "    <tr>\n",
              "      <th>1</th>\n",
              "      <td>Overweight</td>\n",
              "      <td>Smoker</td>\n",
              "      <td>Drinker</td>\n",
              "      <td>Active</td>\n",
              "      <td>High</td>\n",
              "    </tr>\n",
              "    <tr>\n",
              "      <th>2</th>\n",
              "      <td>Overweight</td>\n",
              "      <td>Non-smoker</td>\n",
              "      <td>Drinker</td>\n",
              "      <td>Active</td>\n",
              "      <td>Medium</td>\n",
              "    </tr>\n",
              "    <tr>\n",
              "      <th>3</th>\n",
              "      <td>Overweight</td>\n",
              "      <td>Non-smoker</td>\n",
              "      <td>Non-drinker</td>\n",
              "      <td>Active</td>\n",
              "      <td>Medium</td>\n",
              "    </tr>\n",
              "    <tr>\n",
              "      <th>4</th>\n",
              "      <td>Normal</td>\n",
              "      <td>Non-smoker</td>\n",
              "      <td>Non-drinker</td>\n",
              "      <td>Active</td>\n",
              "      <td>Low</td>\n",
              "    </tr>\n",
              "  </tbody>\n",
              "</table>\n",
              "</div>\n",
              "    <div class=\"colab-df-buttons\">\n",
              "\n",
              "  <div class=\"colab-df-container\">\n",
              "    <button class=\"colab-df-convert\" onclick=\"convertToInteractive('df-68556f85-e09c-49c8-aa4f-3e5c3b3e9873')\"\n",
              "            title=\"Convert this dataframe to an interactive table.\"\n",
              "            style=\"display:none;\">\n",
              "\n",
              "  <svg xmlns=\"http://www.w3.org/2000/svg\" height=\"24px\" viewBox=\"0 -960 960 960\">\n",
              "    <path d=\"M120-120v-720h720v720H120Zm60-500h600v-160H180v160Zm220 220h160v-160H400v160Zm0 220h160v-160H400v160ZM180-400h160v-160H180v160Zm440 0h160v-160H620v160ZM180-180h160v-160H180v160Zm440 0h160v-160H620v160Z\"/>\n",
              "  </svg>\n",
              "    </button>\n",
              "\n",
              "  <style>\n",
              "    .colab-df-container {\n",
              "      display:flex;\n",
              "      gap: 12px;\n",
              "    }\n",
              "\n",
              "    .colab-df-convert {\n",
              "      background-color: #E8F0FE;\n",
              "      border: none;\n",
              "      border-radius: 50%;\n",
              "      cursor: pointer;\n",
              "      display: none;\n",
              "      fill: #1967D2;\n",
              "      height: 32px;\n",
              "      padding: 0 0 0 0;\n",
              "      width: 32px;\n",
              "    }\n",
              "\n",
              "    .colab-df-convert:hover {\n",
              "      background-color: #E2EBFA;\n",
              "      box-shadow: 0px 1px 2px rgba(60, 64, 67, 0.3), 0px 1px 3px 1px rgba(60, 64, 67, 0.15);\n",
              "      fill: #174EA6;\n",
              "    }\n",
              "\n",
              "    .colab-df-buttons div {\n",
              "      margin-bottom: 4px;\n",
              "    }\n",
              "\n",
              "    [theme=dark] .colab-df-convert {\n",
              "      background-color: #3B4455;\n",
              "      fill: #D2E3FC;\n",
              "    }\n",
              "\n",
              "    [theme=dark] .colab-df-convert:hover {\n",
              "      background-color: #434B5C;\n",
              "      box-shadow: 0px 1px 3px 1px rgba(0, 0, 0, 0.15);\n",
              "      filter: drop-shadow(0px 1px 2px rgba(0, 0, 0, 0.3));\n",
              "      fill: #FFFFFF;\n",
              "    }\n",
              "  </style>\n",
              "\n",
              "    <script>\n",
              "      const buttonEl =\n",
              "        document.querySelector('#df-68556f85-e09c-49c8-aa4f-3e5c3b3e9873 button.colab-df-convert');\n",
              "      buttonEl.style.display =\n",
              "        google.colab.kernel.accessAllowed ? 'block' : 'none';\n",
              "\n",
              "      async function convertToInteractive(key) {\n",
              "        const element = document.querySelector('#df-68556f85-e09c-49c8-aa4f-3e5c3b3e9873');\n",
              "        const dataTable =\n",
              "          await google.colab.kernel.invokeFunction('convertToInteractive',\n",
              "                                                    [key], {});\n",
              "        if (!dataTable) return;\n",
              "\n",
              "        const docLinkHtml = 'Like what you see? Visit the ' +\n",
              "          '<a target=\"_blank\" href=https://colab.research.google.com/notebooks/data_table.ipynb>data table notebook</a>'\n",
              "          + ' to learn more about interactive tables.';\n",
              "        element.innerHTML = '';\n",
              "        dataTable['output_type'] = 'display_data';\n",
              "        await google.colab.output.renderOutput(dataTable, element);\n",
              "        const docLink = document.createElement('div');\n",
              "        docLink.innerHTML = docLinkHtml;\n",
              "        element.appendChild(docLink);\n",
              "      }\n",
              "    </script>\n",
              "  </div>\n",
              "\n",
              "\n",
              "<div id=\"df-5b357d46-5f5c-4a44-a247-045b3d173b3c\">\n",
              "  <button class=\"colab-df-quickchart\" onclick=\"quickchart('df-5b357d46-5f5c-4a44-a247-045b3d173b3c')\"\n",
              "            title=\"Suggest charts\"\n",
              "            style=\"display:none;\">\n",
              "\n",
              "<svg xmlns=\"http://www.w3.org/2000/svg\" height=\"24px\"viewBox=\"0 0 24 24\"\n",
              "     width=\"24px\">\n",
              "    <g>\n",
              "        <path d=\"M19 3H5c-1.1 0-2 .9-2 2v14c0 1.1.9 2 2 2h14c1.1 0 2-.9 2-2V5c0-1.1-.9-2-2-2zM9 17H7v-7h2v7zm4 0h-2V7h2v10zm4 0h-2v-4h2v4z\"/>\n",
              "    </g>\n",
              "</svg>\n",
              "  </button>\n",
              "\n",
              "<style>\n",
              "  .colab-df-quickchart {\n",
              "      --bg-color: #E8F0FE;\n",
              "      --fill-color: #1967D2;\n",
              "      --hover-bg-color: #E2EBFA;\n",
              "      --hover-fill-color: #174EA6;\n",
              "      --disabled-fill-color: #AAA;\n",
              "      --disabled-bg-color: #DDD;\n",
              "  }\n",
              "\n",
              "  [theme=dark] .colab-df-quickchart {\n",
              "      --bg-color: #3B4455;\n",
              "      --fill-color: #D2E3FC;\n",
              "      --hover-bg-color: #434B5C;\n",
              "      --hover-fill-color: #FFFFFF;\n",
              "      --disabled-bg-color: #3B4455;\n",
              "      --disabled-fill-color: #666;\n",
              "  }\n",
              "\n",
              "  .colab-df-quickchart {\n",
              "    background-color: var(--bg-color);\n",
              "    border: none;\n",
              "    border-radius: 50%;\n",
              "    cursor: pointer;\n",
              "    display: none;\n",
              "    fill: var(--fill-color);\n",
              "    height: 32px;\n",
              "    padding: 0;\n",
              "    width: 32px;\n",
              "  }\n",
              "\n",
              "  .colab-df-quickchart:hover {\n",
              "    background-color: var(--hover-bg-color);\n",
              "    box-shadow: 0 1px 2px rgba(60, 64, 67, 0.3), 0 1px 3px 1px rgba(60, 64, 67, 0.15);\n",
              "    fill: var(--button-hover-fill-color);\n",
              "  }\n",
              "\n",
              "  .colab-df-quickchart-complete:disabled,\n",
              "  .colab-df-quickchart-complete:disabled:hover {\n",
              "    background-color: var(--disabled-bg-color);\n",
              "    fill: var(--disabled-fill-color);\n",
              "    box-shadow: none;\n",
              "  }\n",
              "\n",
              "  .colab-df-spinner {\n",
              "    border: 2px solid var(--fill-color);\n",
              "    border-color: transparent;\n",
              "    border-bottom-color: var(--fill-color);\n",
              "    animation:\n",
              "      spin 1s steps(1) infinite;\n",
              "  }\n",
              "\n",
              "  @keyframes spin {\n",
              "    0% {\n",
              "      border-color: transparent;\n",
              "      border-bottom-color: var(--fill-color);\n",
              "      border-left-color: var(--fill-color);\n",
              "    }\n",
              "    20% {\n",
              "      border-color: transparent;\n",
              "      border-left-color: var(--fill-color);\n",
              "      border-top-color: var(--fill-color);\n",
              "    }\n",
              "    30% {\n",
              "      border-color: transparent;\n",
              "      border-left-color: var(--fill-color);\n",
              "      border-top-color: var(--fill-color);\n",
              "      border-right-color: var(--fill-color);\n",
              "    }\n",
              "    40% {\n",
              "      border-color: transparent;\n",
              "      border-right-color: var(--fill-color);\n",
              "      border-top-color: var(--fill-color);\n",
              "    }\n",
              "    60% {\n",
              "      border-color: transparent;\n",
              "      border-right-color: var(--fill-color);\n",
              "    }\n",
              "    80% {\n",
              "      border-color: transparent;\n",
              "      border-right-color: var(--fill-color);\n",
              "      border-bottom-color: var(--fill-color);\n",
              "    }\n",
              "    90% {\n",
              "      border-color: transparent;\n",
              "      border-bottom-color: var(--fill-color);\n",
              "    }\n",
              "  }\n",
              "</style>\n",
              "\n",
              "  <script>\n",
              "    async function quickchart(key) {\n",
              "      const quickchartButtonEl =\n",
              "        document.querySelector('#' + key + ' button');\n",
              "      quickchartButtonEl.disabled = true;  // To prevent multiple clicks.\n",
              "      quickchartButtonEl.classList.add('colab-df-spinner');\n",
              "      try {\n",
              "        const charts = await google.colab.kernel.invokeFunction(\n",
              "            'suggestCharts', [key], {});\n",
              "      } catch (error) {\n",
              "        console.error('Error during call to suggestCharts:', error);\n",
              "      }\n",
              "      quickchartButtonEl.classList.remove('colab-df-spinner');\n",
              "      quickchartButtonEl.classList.add('colab-df-quickchart-complete');\n",
              "    }\n",
              "    (() => {\n",
              "      let quickchartButtonEl =\n",
              "        document.querySelector('#df-5b357d46-5f5c-4a44-a247-045b3d173b3c button');\n",
              "      quickchartButtonEl.style.display =\n",
              "        google.colab.kernel.accessAllowed ? 'block' : 'none';\n",
              "    })();\n",
              "  </script>\n",
              "</div>\n",
              "\n",
              "    </div>\n",
              "  </div>\n"
            ],
            "application/vnd.google.colaboratory.intrinsic+json": {
              "type": "dataframe",
              "variable_name": "df",
              "summary": "{\n  \"name\": \"df\",\n  \"rows\": 8,\n  \"fields\": [\n    {\n      \"column\": \"BMI_Category\",\n      \"properties\": {\n        \"dtype\": \"category\",\n        \"num_unique_values\": 3,\n        \"samples\": [\n          \"Obesity\",\n          \"Overweight\",\n          \"Normal\"\n        ],\n        \"semantic_type\": \"\",\n        \"description\": \"\"\n      }\n    },\n    {\n      \"column\": \"Smoking_Status\",\n      \"properties\": {\n        \"dtype\": \"category\",\n        \"num_unique_values\": 2,\n        \"samples\": [\n          \"Non-smoker\",\n          \"Smoker\"\n        ],\n        \"semantic_type\": \"\",\n        \"description\": \"\"\n      }\n    },\n    {\n      \"column\": \"Alcohol_Assumption\",\n      \"properties\": {\n        \"dtype\": \"category\",\n        \"num_unique_values\": 2,\n        \"samples\": [\n          \"Non-drinker\",\n          \"Drinker\"\n        ],\n        \"semantic_type\": \"\",\n        \"description\": \"\"\n      }\n    },\n    {\n      \"column\": \"Physical_Activity_Status\",\n      \"properties\": {\n        \"dtype\": \"category\",\n        \"num_unique_values\": 2,\n        \"samples\": [\n          \"Inactive\",\n          \"Active\"\n        ],\n        \"semantic_type\": \"\",\n        \"description\": \"\"\n      }\n    },\n    {\n      \"column\": \"Heart_Condition_Risk\",\n      \"properties\": {\n        \"dtype\": \"category\",\n        \"num_unique_values\": 3,\n        \"samples\": [\n          \"High\",\n          \"Medium\"\n        ],\n        \"semantic_type\": \"\",\n        \"description\": \"\"\n      }\n    }\n  ]\n}"
            }
          },
          "metadata": {},
          "execution_count": 11
        }
      ]
    },
    {
      "cell_type": "markdown",
      "source": [
        "GEN AI TOOLS: Colab AI\n",
        "\n",
        "GEN AI PROMPT: Recomendation plots for user input data\n",
        "\n",
        "GEN AI RESPONSE: Code generate by Colab AI - as below"
      ],
      "metadata": {
        "id": "weQFj10sNThZ"
      }
    },
    {
      "source": [
        "# @title Heart Condition Risk by BMI Category\n",
        "\n",
        "import matplotlib.pyplot as plt\n",
        "import pandas as pd\n",
        "\n",
        "# Assuming 'df' is your DataFrame\n",
        "df_grouped = df.groupby(['BMI_Category', 'Heart_Condition_Risk'])['Heart_Condition_Risk'].count().unstack()\n",
        "\n",
        "df_grouped.plot(kind='bar', figsize=(10, 6))\n",
        "plt.title('Heart Condition Risk by BMI Category')\n",
        "plt.xlabel('BMI Category')\n",
        "plt.ylabel('Count')\n",
        "_ = plt.xticks(rotation=0)"
      ],
      "cell_type": "code",
      "execution_count": 12,
      "outputs": [
        {
          "output_type": "display_data",
          "data": {
            "text/plain": [
              "<Figure size 1000x600 with 1 Axes>"
            ],
            "image/png": "[encoded data removed]"
          },
          "metadata": {}
        }
      ],
      "metadata": {
        "id": "tf7WUIdFMBdd",
        "outputId": "82f05362-f94a-468b-bbc3-d0db6c81f985",
        "colab": {
          "base_uri": "https://localhost:8080/",
          "height": 564
        }
      }
    },
    {
      "cell_type": "markdown",
      "source": [
        "GEN AI TOOLS: Colab AI\n",
        "\n",
        "GEN AI PROMPT: plot a graph that illustrates the correlation between heart condition risk and smoking status, alcohol status, and physical activity status\n",
        "\n",
        "GEN AI RESPONSE: Code generate by Colab AI - as below"
      ],
      "metadata": {
        "id": "hlYMd1KCPnqF"
      }
    },
    {
      "cell_type": "code",
      "source": [
        "# prompt: plot a graph that illustrates the correlation between heart condition risk and smoking status, alcohol status, and physical activity status\n",
        "\n",
        "import matplotlib.pyplot as plt\n",
        "import seaborn as sns\n",
        "\n",
        "# Assuming 'df' is your DataFrame\n",
        "plt.figure(figsize=(15, 5))\n",
        "\n",
        "plt.subplot(1, 3, 1)\n",
        "sns.countplot(x='Smoking_Status', hue='Heart_Condition_Risk', data=df)\n",
        "plt.title('Heart Condition Risk by Smoking Status')\n",
        "plt.xlabel('Smoking Status')\n",
        "plt.ylabel('Count')\n",
        "\n",
        "plt.subplot(1, 3, 2)\n",
        "sns.countplot(x='Alcohol_Assumption', hue='Heart_Condition_Risk', data=df)\n",
        "plt.title('Heart Condition Risk by Alcohol Assumption')\n",
        "plt.xlabel('Alcohol Assumption')\n",
        "plt.ylabel('Count')\n",
        "\n",
        "plt.subplot(1, 3, 3)\n",
        "sns.countplot(x='Physical_Activity_Status', hue='Heart_Condition_Risk', data=df)\n",
        "plt.title('Heart Condition Risk by Physical Activity Status')\n",
        "plt.xlabel('Physical Activity Status')\n",
        "plt.ylabel('Count')\n",
        "\n",
        "plt.tight_layout()\n",
        "plt.show()\n"
      ],
      "metadata": {
        "id": "3qoCKavINukf",
        "outputId": "a62cd85d-fde2-4e50-bcf3-bf32f9364adf",
        "colab": {
          "base_uri": "https://localhost:8080/",
          "height": 507
        }
      },
      "execution_count": 17,
      "outputs": [
        {
          "output_type": "display_data",
          "data": {
            "text/plain": [
              "<Figure size 1500x500 with 3 Axes>"
            ],
            "image/png": "[encoded data removed]"
          },
          "metadata": {}
        }
      ]
    },
    {
      "cell_type": "markdown",
      "source": [
        "GEN AI EFFECTIVENESS: As shown above"
      ],
      "metadata": {
        "id": "uYJfyq9YP3Kq"
      }
    },
    {
      "cell_type": "markdown",
      "source": [
        "During this assignment, my goals was to establish an application in order to help healthcare professional and clients predict the likelihood of heart risk based on demographic data, lifestyle, and health metric factors. At the beginning, I developed a plan to collect user data using function “def get_user_input()” such as height and weight to compute the BMI calculation, using function “calculate_bmi(height, weight)” with: BMI = weight / (height *2), and collect their Smoking status, Drinking status, and Physical Activity Status.  After compute BMI, clients will be classified into different categories based on their bmi data by function “def get_bmi_category(bmi)”, for example bmi < 18.5 is “Underweight”, 18.5<= bmi <25 is “Normal”, 25 < bmi <=30 is “Overweight”, and the other is “Obesity”.  Then, this information will be assessed with all possible outcomes in the heart prediction risk table data. If user data match with available data in heart prediction risk table using “def predict_heart_risk(bmi_category, smoking, alcohol, activity)”, the result will determine the heart risk condition of the user that match with heart prediction risk table, whilst returning “unknown”. In this step, “pandas” and “csv” were used to stored user information into a csv file for analysing. Lastly user input will convert into visualizations using  “matplotlib.pyplot” to visualize the correlation between user bmi categories and lifestyle factors affecting heart risk prediction.\n",
        "\n",
        "It can be denied a huge benefit of AI in learning coding in pre-class, in-class and post-class activities. To complete this task, I mainly used Colab AI as the source of generating data.  There are numerous advantages that AI can bring to programming field such as providing instant explanations, for example whenever dealing with new syntax concept, AI provides a clear and detailed explanation of the meaning of that syntax or concept, therefore, I can understand the function of that syntax and easily apply for future use. Most importantly, it can generate code snippets based on my prompts or problems. For instance, I need to get bmi category based on the user’s bmi calculation or  match the user data with provided heart prediction risk table, Colab AI generates code snippers and from that it saves me a lot of time while still understand the underlying logic. However, from my personal experience, the role of human instructors cannot be replaced by technology.  Under learning perspectives, AI can help to provide code but there are not always the most efficient and effective solutions for the problems. I believe that with the knowledge and experience throughout many years, the instructor can provide the most detailed and creative way that specifically addresses the issues that learner might have. Moreover, another critical limitation of AI is they cannot offer feedback or personalized guidance, which really important for every learner. Nonetheless, with the assistance of instructors and the help of AI, my assignment has improved in many ways. During this assignment, I found that the function of AI is extremely useful whenever I need to explain the meaning of each syntax. For example, I ask AI about the function of “data.append([height, weight, smoking, alcohol, activity,])” , which they offered a detailed description each element in the syntax, how they affect my code, and what they can be used for. In contrast, I have faced several problems when using AI. It can be seen that, AI sometimes cannot fully understand the concept of what I am doing, as a result it may generate invalid syntax for my code. What I have done to solve this issues was to had a look back to all my lecture as well as prompt the questions into the discussion board so that the professor can provide me a clear guidance to address my challenges. Additionally, through documenting GEN AI interactions (prompt, response, effectiveness, modification), I can better utilize the advantages of GEN AI while finding a proper solution for the limitations of this Artificial Intelligence. For example, when prompt AI to modify the code to ask whether user want to continue typing input, AI has effectively generated the code for the issue. However, this code is restrictive in the sense that for 'no', it does not accept n, N, which users might naturally enter. As a result, modification is necessary to check for all the possible input that user might use.\n"
      ],
      "metadata": {
        "id": "Zk2Y7zrQ1hCC"
      }
    }
  ],
  "metadata": {
    "colab": {
      "provenance": [],
      "include_colab_link": true
    },
    "kernelspec": {
      "display_name": "Python 3",
      "name": "python3"
    },
    "language_info": {
      "name": "python"
    }
  },
  "nbformat": 4,
  "nbformat_minor": 0
}