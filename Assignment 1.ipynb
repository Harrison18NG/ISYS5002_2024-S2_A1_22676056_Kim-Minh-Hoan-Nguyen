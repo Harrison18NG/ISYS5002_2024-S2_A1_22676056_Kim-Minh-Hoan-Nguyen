{
  "cells": [
    {
      "cell_type": "markdown",
      "metadata": {
        "id": "view-in-github",
        "colab_type": "text"
      },
      "source": [
        "<a href=\"https://colab.research.google.com/github/Harrison18NG/ISYS5002_2024-S2_A1_22676056_Kim-Minh-Hoan-Nguyen/blob/main/Assignment%201.ipynb\" target=\"_parent\"><img src=\"https://colab.research.google.com/assets/colab-badge.svg\" alt=\"Open In Colab\"/></a>"
      ]
    },
    {
      "cell_type": "code",
      "source": [
        "#import csv module\n",
        "import csv"
      ],
      "metadata": {
        "id": "HzELdjjOlqYW"
      },
      "execution_count": 5,
      "outputs": []
    },
    {
      "cell_type": "markdown",
      "source": [
        "*** Heart Prediction Risk Table ***\n",
        "\n"
      ],
      "metadata": {
        "id": "gdPyuSMuGqlT"
      }
    },
    {
      "cell_type": "code",
      "source": [
        "#Writing to a CSV file, using pandas to stored the heart prediction table for later used\n",
        "\n",
        "#open file and write records\n",
        "import pandas as pd\n",
        "\n",
        "data = {\n",
        "  \"BMI_Category\": [\"Underweight\", \"Underweight\",\"Underweight\",\"Underweight\",\"Underweight\",\"Underweight\",\"Underweight\",\"Underweight\",\n",
        "                      \"Normal\", \"Normal\", \"Normal\", \"Normal\", \"Normal\", \"Normal\", \"Normal\", \"Normal\",\n",
        "                      \"Overweight\", \"Overweight\", \"Overweight\", \"Overweight\", \"Overweight\", \"Overweight\", \"Overweight\", \"Overweight\",\n",
        "                      \"Obesity\", \"Obesity\", \"Obesity\", \"Obesity\", \"Obesity\", \"Obesity\",\"Obesity\", \"Obesity\"],\n",
        "\n",
        "    \"Smoking_Status\": [\"Non-smoker\",\"Non-smoker\",\"Non-smoker\",\"Non-smoker\",\n",
        "                        \"Smoker\",\"Smoker\",\"Smoker\",\"Smoker\",\n",
        "                        \"Non-smoker\",\"Non-smoker\",\"Non-smoker\",\"Non-smoker\",\n",
        "                        \"Smoker\",\"Smoker\",\"Smoker\",\"Smoker\",\n",
        "                        \"Non-smoker\",\"Non-smoker\",\"Non-smoker\",\"Non-smoker\",\n",
        "                        \"Smoker\",\"Smoker\",\"Smoker\",\"Smoker\",\n",
        "                         \"Non-smoker\",\"Non-smoker\",\"Non-smoker\",\"Non-smoker\",\n",
        "                        \"Smoker\",\"Smoker\",\"Smoker\",\"Smoker\"],\n",
        "\n",
        "    \"Alcohol_Assumption\": [ \"Non-drinker\",\"Non-drinker\",\"Drinker\",\"Drinker\",\n",
        "                            \"Non-drinker\",\"Non-drinker\",\"Drinker\",\"Drinker\",\n",
        "                            \"Non-drinker\",\"Non-drinker\",\"Drinker\",\"Drinker\",\n",
        "                            \"Non-drinker\",\"Non-drinker\",\"Drinker\",\"Drinker\",\n",
        "                            \"Non-drinker\",\"Non-drinker\",\"Drinker\",\"Drinker\",\n",
        "                            \"Non-drinker\",\"Non-drinker\",\"Drinker\",\"Drinker\",\n",
        "                            \"Non-drinker\",\"Non-drinker\",\"Drinker\",\"Drinker\",\n",
        "                            \"Non-drinker\",\"Non-drinker\",\"Drinker\",\"Drinker\"],\n",
        "\n",
        "     \"Physical_Activity_Status\": [\"Inactive\",\"Active\"]*16,\n",
        "\n",
        "     \"Heart_condition_risk\": [\"Medium\", \"Low\",\"Medium\", \"Low\",\"High\",\"High\",\"High\",\"High\",\n",
        "                              \"Medium\",\"Low\",\"Medium\",\"Low\",\"Medium\",\"Medium\",\"High\",\"Medium\",\n",
        "                              \"Medium\",\"Medium\",\"Medium\",\"Medium\",\"High\",\"High\",\"High\",\"High\",\n",
        "                              \"High\",\"High\",\"High\",\"High\",\"High\",\"High\",\"High\",\"High\"]}\n",
        "df = pd.DataFrame(data)\n",
        "df.to_csv(\"heart_condition_risk_data.csv\", index=False)\n",
        "print(df)\n",
        "\n",
        "\n"
      ],
      "metadata": {
        "id": "QHHhkU2aD6hU",
        "outputId": "1deb4755-0e11-4989-faa0-eccc3c834ef7",
        "colab": {
          "base_uri": "https://localhost:8080/"
        }
      },
      "execution_count": 4,
      "outputs": [
        {
          "output_type": "stream",
          "name": "stdout",
          "text": [
            "   BMI_Category Smoking_Status Alcohol_Assumption Physical_Activity_Status  \\\n",
            "0   Underweight     Non-smoker        Non-drinker                 Inactive   \n",
            "1   Underweight     Non-smoker        Non-drinker                   Active   \n",
            "2   Underweight     Non-smoker            Drinker                 Inactive   \n",
            "3   Underweight     Non-smoker            Drinker                   Active   \n",
            "4   Underweight         Smoker        Non-drinker                 Inactive   \n",
            "5   Underweight         Smoker        Non-drinker                   Active   \n",
            "6   Underweight         Smoker            Drinker                 Inactive   \n",
            "7   Underweight         Smoker            Drinker                   Active   \n",
            "8        Normal     Non-smoker        Non-drinker                 Inactive   \n",
            "9        Normal     Non-smoker        Non-drinker                   Active   \n",
            "10       Normal     Non-smoker            Drinker                 Inactive   \n",
            "11       Normal     Non-smoker            Drinker                   Active   \n",
            "12       Normal         Smoker        Non-drinker                 Inactive   \n",
            "13       Normal         Smoker        Non-drinker                   Active   \n",
            "14       Normal         Smoker            Drinker                 Inactive   \n",
            "15       Normal         Smoker            Drinker                   Active   \n",
            "16   Overweight     Non-smoker        Non-drinker                 Inactive   \n",
            "17   Overweight     Non-smoker        Non-drinker                   Active   \n",
            "18   Overweight     Non-smoker            Drinker                 Inactive   \n",
            "19   Overweight     Non-smoker            Drinker                   Active   \n",
            "20   Overweight         Smoker        Non-drinker                 Inactive   \n",
            "21   Overweight         Smoker        Non-drinker                   Active   \n",
            "22   Overweight         Smoker            Drinker                 Inactive   \n",
            "23   Overweight         Smoker            Drinker                   Active   \n",
            "24      Obesity     Non-smoker        Non-drinker                 Inactive   \n",
            "25      Obesity     Non-smoker        Non-drinker                   Active   \n",
            "26      Obesity     Non-smoker            Drinker                 Inactive   \n",
            "27      Obesity     Non-smoker            Drinker                   Active   \n",
            "28      Obesity         Smoker        Non-drinker                 Inactive   \n",
            "29      Obesity         Smoker        Non-drinker                   Active   \n",
            "30      Obesity         Smoker            Drinker                 Inactive   \n",
            "31      Obesity         Smoker            Drinker                   Active   \n",
            "\n",
            "   Heart_condition_risk  \n",
            "0                Medium  \n",
            "1                   Low  \n",
            "2                Medium  \n",
            "3                   Low  \n",
            "4                  High  \n",
            "5                  High  \n",
            "6                  High  \n",
            "7                  High  \n",
            "8                Medium  \n",
            "9                   Low  \n",
            "10               Medium  \n",
            "11                  Low  \n",
            "12               Medium  \n",
            "13               Medium  \n",
            "14                 High  \n",
            "15               Medium  \n",
            "16               Medium  \n",
            "17               Medium  \n",
            "18               Medium  \n",
            "19               Medium  \n",
            "20                 High  \n",
            "21                 High  \n",
            "22                 High  \n",
            "23                 High  \n",
            "24                 High  \n",
            "25                 High  \n",
            "26                 High  \n",
            "27                 High  \n",
            "28                 High  \n",
            "29                 High  \n",
            "30                 High  \n",
            "31                 High  \n"
          ]
        }
      ]
    },
    {
      "cell_type": "markdown",
      "source": [
        "### Generalise it - User Input Storage in File\n",
        "\n",
        "Collecting user input for analyzing"
      ],
      "metadata": {
        "id": "4uhKJwVJGfEh"
      }
    },
    {
      "cell_type": "code",
      "source": [
        "# Recording data from user for prediciton process\n",
        "def get_user_input():\n",
        "  data = []\n",
        "  while True:\n",
        "    height = float(input(\"Enter your height in meters: \"))\n",
        "    weight = float(input(\"Enter your weight in kilograms: \"))\n",
        "    smoking = input(\"Please enter your smoking status (Smoker, Non-smoker):\")\n",
        "    alcohol = input(\"Please enter your alcohol assumption (Drinker, Non-drinker):\")\n",
        "    activity = input(\"Please enter your physical activity status (Active, Inactive):\")\n",
        "\n",
        "    cont= input(\"Do you want to continue? (yes/no): \")\n",
        "    if cont.lower() != 'yes':\n",
        "      break\n",
        "  return data\n",
        "#Calculate the bmi based on the height and weight data provided by user\n",
        "def calculate_bmi(height, weight):\n",
        "    bmi = weight / (height ** 2)\n",
        "    return bmi\n",
        "#Stored data to csv file\n",
        "def save_to_csv(data, filename=\"user_input.csv\"):\n",
        "  with open(filename, 'w', newline='') as file:\n",
        "    writer = csv.writer(file)\n",
        "    writer.writerow(['BMI_Category', 'Smoking_Status', 'Alcohol_Assumption', 'Physical_Activity_Status','Heart_Condition_Risk'])\n",
        "    writer.writerows(data)"
      ],
      "metadata": {
        "id": "y9nnaTCQJABT"
      },
      "execution_count": 26,
      "outputs": []
    },
    {
      "cell_type": "markdown",
      "source": [
        "*** Classify User based on BMI Calculation ***\n",
        "\n",
        "GEN AI tool: COLAB\n",
        "\n",
        "GEN AI PROMPT: Modify the code above to get the BMI Category\n",
        "\n",
        "GEN AI RESPONSE: Code generate by Colab - as below\n"
      ],
      "metadata": {
        "id": "ZjWtMgUNfygY"
      }
    },
    {
      "cell_type": "code",
      "source": [
        "# prompt: modify the code above to get the bmi category\n",
        "\n",
        "import csv\n",
        "import pandas as pd\n",
        "\n",
        "# ... (Existing code)\n",
        "# Classify bmi category based on the bmi calculation above\n",
        "def get_bmi_category(bmi):\n",
        "  if bmi < 18.5:\n",
        "    return \"Underweight\"\n",
        "  elif 18.5 <= bmi < 25:\n",
        "    return \"Normal weight\"\n",
        "  elif 25 <= bmi < 30:\n",
        "    return \"Overweight\"\n",
        "  else:\n",
        "    return \"Obesity\"\n",
        "def get_user_input():\n",
        "  while True:\n",
        "\n",
        "    height = float(input(\"Enter your height in meters: \"))\n",
        "    weight = float(input(\"Enter your weight in kilograms: \"))\n",
        "    smoking = input(\"Please enter your smoking status (Smoker, Non-smoker):\")\n",
        "    alcohol = input(\"Please enter your alcohol assumption (Drinker, Non-drinker):\")\n",
        "    activity = input(\"Please enter your physical activity status (Active, Inactive):\")\n",
        "\n",
        "\n",
        "    cont= input(\"Do you want to continue? (yes/no): \")\n",
        "    if cont.lower() != 'yes':\n",
        "      break\n",
        "  return height, weight, smoking, alcohol, activity\n",
        "\n",
        "# ... (Rest of the existing code)\n",
        "def calculate_bmi(height, weight):\n",
        "    bmi = weight / (height ** 2)\n",
        "    print(\"Your bmi is\", bmi)\n",
        "    return bmi\n",
        "def save_to_csv(data, filename=\"user_input.csv\"):\n",
        "  with open(filename, 'w', newline='') as file:\n",
        "    writer = csv.writer(file)\n",
        "    writer.writerow(['BMI_Category', 'Smoking_Status', 'Alcohol_Assumption', 'Physical_Activity_Status','Heart_Condition_Risk'])\n",
        "    writer.writerows(data)"
      ],
      "metadata": {
        "id": "hS4CTcxiFKLU"
      },
      "execution_count": 32,
      "outputs": []
    },
    {
      "cell_type": "code",
      "source": [
        "height, weight, smoking, alcohol, activity = get_user_input()\n",
        "bmi = calculate_bmi(height, weight)\n",
        "print(f\"Your BMI category is: {get_bmi_category(bmi)} \")\n"
      ],
      "metadata": {
        "id": "vhUb4sEVSWV4",
        "outputId": "652652f6-130c-4ed1-c53f-a432f6e152d7",
        "colab": {
          "base_uri": "https://localhost:8080/"
        }
      },
      "execution_count": 11,
      "outputs": [
        {
          "output_type": "stream",
          "name": "stdout",
          "text": [
            "Enter your height in meters: 1.75\n",
            "Enter your weight in kilograms: 80\n",
            "Please enter your smoking status (Smoker, Non-smoker):Non-smoker\n",
            "Please enter your alcohol assumption (Drinker, Non-drinker):Non-drinker\n",
            "Please enter your physical activity status (Active, Inactive):Active\n",
            "Do you want to continue? (yes/no): no\n",
            "Your bmi is 26.122448979591837\n",
            "Your BMI category is: Overweight \n"
          ]
        }
      ]
    },
    {
      "cell_type": "markdown",
      "source": [
        "GEN AI EFFECTIVENESS:\n",
        "```\n",
        "def get_bmi_category(bmi):                                                                  \n",
        "  if bmi < 18.5:\n",
        "\n",
        "    return \"Underweight\"\n",
        "  elif 18.5 <= bmi < 25:\n",
        "\n",
        "    return \"Normal weight\"\n",
        "  elif 25 <= bmi < 30:\n",
        "\n",
        "    return \"Overweight\"\n",
        "  else:\n",
        "  \n",
        "    return \"Obesity\"\n",
        "```"
      ],
      "metadata": {
        "id": "KXv3p3Q-gUM2"
      }
    },
    {
      "cell_type": "markdown",
      "source": [
        "*** Matching User input with Heart Prediciton Risk Table ***\n",
        "\n",
        "GEN AI TOOL: COLAB\n",
        "\n",
        "GEN AI PROMPT: Modify the code above to match the user data with heart risk prediction table\n",
        "\n",
        "GEN AI RESPONSE: Code generate by Colab AI - as below\n",
        "\n",
        "\n"
      ],
      "metadata": {
        "id": "2dUwv3HSj5NY"
      }
    },
    {
      "cell_type": "code",
      "source": [
        "# prompt: Modify the code above to match the user data with heart risk prediction table\n",
        "\n",
        "import pandas as pd\n",
        "def predict_heart_risk(bmi_category, smoking, alcohol, activity):\n",
        "  # Load the heart risk prediction table (replace with actual loading logic)\n",
        "  df = pd.read_csv(\"heart_condition_risk_data.csv\")\n",
        "\n",
        "  # Filter the table based on user input\n",
        "  matching_rows = df[\n",
        "      (df['BMI_Category'] == bmi_category) &\n",
        "      (df['Smoking_Status'] == smoking) &\n",
        "      (df['Alcohol_Assumption'] == alcohol) &\n",
        "      (df['Physical_Activity_Status'] == activity)\n",
        "  ]\n",
        "\n",
        "  # Determine the risk level\n",
        "  if matching_rows.empty:\n",
        "    return \"Unknown\"\n",
        "  else:\n",
        "    return matching_rows['Heart_condition_risk'].iloc[0]\n",
        "\n",
        "# ... (Rest of the existing code)\n",
        "\n",
        "height, weight, smoking, alcohol, activity = get_user_input()\n",
        "bmi = calculate_bmi(height, weight)\n",
        "bmi_category = get_bmi_category(bmi)\n",
        "risk = predict_heart_risk(bmi_category, smoking, alcohol, activity)\n",
        "save_to_csv = save_to_csv(data, filename=\"user_input.csv\")\n",
        "print(f\"Your BMI category is: {bmi_category}\")\n",
        "print(f\"Your predicted heart condition risk is: {risk}\")\n"
      ],
      "metadata": {
        "colab": {
          "base_uri": "https://localhost:8080/"
        },
        "id": "7jQdjKlwhR8C",
        "outputId": "914c5fbb-559d-4160-d93d-8d37ff5c0c89"
      },
      "execution_count": 31,
      "outputs": [
        {
          "output_type": "stream",
          "name": "stdout",
          "text": [
            "Enter your height in meters: 1.70\n",
            "Enter your weight in kilograms: 80\n",
            "Please enter your smoking status (Smoker, Non-smoker):Smoker\n",
            "Please enter your alcohol assumption (Drinker, Non-drinker):Non-drinker\n",
            "Please enter your physical activity status (Active, Inactive):Active\n",
            "Do you want to continue? (yes/no): no\n",
            "Your bmi is 27.68166089965398\n",
            "Your BMI category is: Overweight\n",
            "Your predicted heart condition risk is: High\n"
          ]
        }
      ]
    },
    {
      "cell_type": "markdown",
      "source": [
        "GEN AI EFFECTIVENESS:\n",
        "```\n",
        "import pandas as pd\n",
        "\n",
        "def predict_heart_risk(bmi_category, smoking, alcohol, activity):\n",
        "\n",
        "df = pd.read_csv(\"heart_condition_risk_data.csv\")\n",
        "\n",
        "  # Filter the table based on user input\n",
        "\n",
        "  matching_rows = df[\n",
        "      (df['BMI_Category'] == bmi_category) &\n",
        "      (df['Smoking_Status'] == smoking) &\n",
        "      (df['Alcohol_Assumption'] == alcohol) &\n",
        "      (df['Physical_Activity_Status'] == activity) ]\n",
        "\n",
        "  # Determine the risk level\n",
        "\n",
        "  if matching_rows.empty:\n",
        "\n",
        "    return \"Unknown\"\n",
        "\n",
        "  else:\n",
        "\n",
        "    return matching_rows['Heart_condition_risk'].iloc[0]\n",
        "```"
      ],
      "metadata": {
        "id": "lrIqstLRkbqq"
      }
    },
    {
      "cell_type": "code",
      "source": [
        "# Recording data from user for prediciton process\n",
        "import pandas as pd\n",
        "import csv\n",
        "def get_user_input():\n",
        "  data = []\n",
        "  while True:\n",
        "   try:\n",
        "    height = float(input(\"Enter your height in meters: \"))\n",
        "    weight = float(input(\"Enter your weight in kilograms: \"))\n",
        "    smoking = input(\"Please enter your smoking status (Smoker, Non-smoker):\")\n",
        "    alcohol = input(\"Please enter your alcohol assumption (Drinker, Non-drinker):\")\n",
        "    activity = input(\"Please enter your physical activity status (Active, Inactive):\")\n",
        "    data.append([height, weight, smoking, alcohol, activity])\n",
        "    cont= input(\"Do you want to continue? (yes/no): \")\n",
        "    if cont.lower() != 'yes':\n",
        "     break\n",
        "   except ValueError:\n",
        "      print(\"Invalid input. Please enter numeric values for height and weight.\")\n",
        "  return height, weight, smoking, alcohol, activity\n",
        "#Calculate the bmi based on the height and weight data provided by user\n",
        "def calculate_bmi(height, weight):\n",
        "    bmi = weight / (height ** 2)\n",
        "    return bmi\n",
        "# Classify bmi category based on the bmi calculation above\n",
        "def get_bmi_category(bmi):\n",
        "  if bmi < 18.5:\n",
        "    return \"Underweight\"\n",
        "  elif 18.5 <= bmi < 25:\n",
        "    return \"Normal\"\n",
        "  elif 25 <= bmi < 30:\n",
        "    return \"Overweight\"\n",
        "  else:\n",
        "    return \"Obesity\"\n",
        "def predict_heart_risk(bmi_category, smoking, alcohol, activity):\n",
        "  # Load the heart risk prediction table (replace with actual loading logic)\n",
        "  df = pd.read_csv(\"heart_condition_risk_data.csv\")\n",
        "\n",
        "  # Filter the table based on user input\n",
        "  matching_rows = df[\n",
        "      (df['BMI_Category'] == bmi_category) &\n",
        "      (df['Smoking_Status'] == smoking) &\n",
        "      (df['Alcohol_Assumption'] == alcohol) &\n",
        "      (df['Physical_Activity_Status'] == activity)\n",
        "  ]\n",
        "\n",
        "  # Determine the risk level\n",
        "  if matching_rows.empty:\n",
        "    return \"Unknown\"\n",
        "  else:\n",
        "    return matching_rows['Heart_condition_risk'].iloc[0]\n",
        "\n",
        "#Stored data to csv file\n",
        "def save_to_csv(data, filename=\"user_input.csv\"):\n",
        "  with open(filename, 'w', newline='') as file:\n",
        "    writer = csv.writer(file)\n",
        "    writer.writerow(['BMI_Category', 'Smoking_Status', 'Alcohol_Assumption', 'Physical_Activity_Status','Heart_Condition_Risk'])\n",
        "    writer.writerows(data)\n",
        "\n",
        "height, weight, smoking, alcohol, activity = get_user_input()\n",
        "bmi = calculate_bmi(height, weight)\n",
        "bmi_category = get_bmi_category(bmi)\n",
        "risk = predict_heart_risk(bmi_category, smoking, alcohol, activity)\n",
        "user_data = get_user_input()\n",
        "save_to_csv(user_data, filename=\"user_input.csv\")\n",
        "print(f\"Your BMI category is: {bmi_category}\")\n",
        "print(f\"Your predicted heart condition risk is: {risk}\")"
      ],
      "metadata": {
        "id": "lmzQHasj1LRT",
        "outputId": "865e2374-2b45-471d-ea8f-82c5edb2f67c",
        "colab": {
          "base_uri": "https://localhost:8080/",
          "height": 371
        }
      },
      "execution_count": 23,
      "outputs": [
        {
          "output_type": "error",
          "ename": "KeyboardInterrupt",
          "evalue": "Interrupted by user",
          "traceback": [
            "\u001b[0;31m---------------------------------------------------------------------------\u001b[0m",
            "\u001b[0;31mKeyboardInterrupt\u001b[0m                         Traceback (most recent call last)",
            "\u001b[0;32m<ipython-input-23-371debfeafdc>\u001b[0m in \u001b[0;36m<cell line: 59>\u001b[0;34m()\u001b[0m\n\u001b[1;32m     57\u001b[0m     \u001b[0mwriter\u001b[0m\u001b[0;34m.\u001b[0m\u001b[0mwriterows\u001b[0m\u001b[0;34m(\u001b[0m\u001b[0mdata\u001b[0m\u001b[0;34m)\u001b[0m\u001b[0;34m\u001b[0m\u001b[0;34m\u001b[0m\u001b[0m\n\u001b[1;32m     58\u001b[0m \u001b[0;34m\u001b[0m\u001b[0m\n\u001b[0;32m---> 59\u001b[0;31m \u001b[0mheight\u001b[0m\u001b[0;34m,\u001b[0m \u001b[0mweight\u001b[0m\u001b[0;34m,\u001b[0m \u001b[0msmoking\u001b[0m\u001b[0;34m,\u001b[0m \u001b[0malcohol\u001b[0m\u001b[0;34m,\u001b[0m \u001b[0mactivity\u001b[0m \u001b[0;34m=\u001b[0m \u001b[0mget_user_input\u001b[0m\u001b[0;34m(\u001b[0m\u001b[0;34m)\u001b[0m\u001b[0;34m\u001b[0m\u001b[0;34m\u001b[0m\u001b[0m\n\u001b[0m\u001b[1;32m     60\u001b[0m \u001b[0mbmi\u001b[0m \u001b[0;34m=\u001b[0m \u001b[0mcalculate_bmi\u001b[0m\u001b[0;34m(\u001b[0m\u001b[0mheight\u001b[0m\u001b[0;34m,\u001b[0m \u001b[0mweight\u001b[0m\u001b[0;34m)\u001b[0m\u001b[0;34m\u001b[0m\u001b[0;34m\u001b[0m\u001b[0m\n\u001b[1;32m     61\u001b[0m \u001b[0mbmi_category\u001b[0m \u001b[0;34m=\u001b[0m \u001b[0mget_bmi_category\u001b[0m\u001b[0;34m(\u001b[0m\u001b[0mbmi\u001b[0m\u001b[0;34m)\u001b[0m\u001b[0;34m\u001b[0m\u001b[0;34m\u001b[0m\u001b[0m\n",
            "\u001b[0;32m<ipython-input-23-371debfeafdc>\u001b[0m in \u001b[0;36mget_user_input\u001b[0;34m()\u001b[0m\n\u001b[1;32m      6\u001b[0m   \u001b[0;32mwhile\u001b[0m \u001b[0;32mTrue\u001b[0m\u001b[0;34m:\u001b[0m\u001b[0;34m\u001b[0m\u001b[0;34m\u001b[0m\u001b[0m\n\u001b[1;32m      7\u001b[0m    \u001b[0;32mtry\u001b[0m\u001b[0;34m:\u001b[0m\u001b[0;34m\u001b[0m\u001b[0;34m\u001b[0m\u001b[0m\n\u001b[0;32m----> 8\u001b[0;31m     \u001b[0mheight\u001b[0m \u001b[0;34m=\u001b[0m \u001b[0mfloat\u001b[0m\u001b[0;34m(\u001b[0m\u001b[0minput\u001b[0m\u001b[0;34m(\u001b[0m\u001b[0;34m\"Enter your height in meters: \"\u001b[0m\u001b[0;34m)\u001b[0m\u001b[0;34m)\u001b[0m\u001b[0;34m\u001b[0m\u001b[0;34m\u001b[0m\u001b[0m\n\u001b[0m\u001b[1;32m      9\u001b[0m     \u001b[0mweight\u001b[0m \u001b[0;34m=\u001b[0m \u001b[0mfloat\u001b[0m\u001b[0;34m(\u001b[0m\u001b[0minput\u001b[0m\u001b[0;34m(\u001b[0m\u001b[0;34m\"Enter your weight in kilograms: \"\u001b[0m\u001b[0;34m)\u001b[0m\u001b[0;34m)\u001b[0m\u001b[0;34m\u001b[0m\u001b[0;34m\u001b[0m\u001b[0m\n\u001b[1;32m     10\u001b[0m     \u001b[0msmoking\u001b[0m \u001b[0;34m=\u001b[0m \u001b[0minput\u001b[0m\u001b[0;34m(\u001b[0m\u001b[0;34m\"Please enter your smoking status (Smoker, Non-smoker):\"\u001b[0m\u001b[0;34m)\u001b[0m\u001b[0;34m\u001b[0m\u001b[0;34m\u001b[0m\u001b[0m\n",
            "\u001b[0;32m/usr/local/lib/python3.10/dist-packages/ipykernel/kernelbase.py\u001b[0m in \u001b[0;36mraw_input\u001b[0;34m(self, prompt)\u001b[0m\n\u001b[1;32m    849\u001b[0m                 \u001b[0;34m\"raw_input was called, but this frontend does not support input requests.\"\u001b[0m\u001b[0;34m\u001b[0m\u001b[0;34m\u001b[0m\u001b[0m\n\u001b[1;32m    850\u001b[0m             )\n\u001b[0;32m--> 851\u001b[0;31m         return self._input_request(str(prompt),\n\u001b[0m\u001b[1;32m    852\u001b[0m             \u001b[0mself\u001b[0m\u001b[0;34m.\u001b[0m\u001b[0m_parent_ident\u001b[0m\u001b[0;34m,\u001b[0m\u001b[0;34m\u001b[0m\u001b[0;34m\u001b[0m\u001b[0m\n\u001b[1;32m    853\u001b[0m             \u001b[0mself\u001b[0m\u001b[0;34m.\u001b[0m\u001b[0m_parent_header\u001b[0m\u001b[0;34m,\u001b[0m\u001b[0;34m\u001b[0m\u001b[0;34m\u001b[0m\u001b[0m\n",
            "\u001b[0;32m/usr/local/lib/python3.10/dist-packages/ipykernel/kernelbase.py\u001b[0m in \u001b[0;36m_input_request\u001b[0;34m(self, prompt, ident, parent, password)\u001b[0m\n\u001b[1;32m    893\u001b[0m             \u001b[0;32mexcept\u001b[0m \u001b[0mKeyboardInterrupt\u001b[0m\u001b[0;34m:\u001b[0m\u001b[0;34m\u001b[0m\u001b[0;34m\u001b[0m\u001b[0m\n\u001b[1;32m    894\u001b[0m                 \u001b[0;31m# re-raise KeyboardInterrupt, to truncate traceback\u001b[0m\u001b[0;34m\u001b[0m\u001b[0;34m\u001b[0m\u001b[0m\n\u001b[0;32m--> 895\u001b[0;31m                 \u001b[0;32mraise\u001b[0m \u001b[0mKeyboardInterrupt\u001b[0m\u001b[0;34m(\u001b[0m\u001b[0;34m\"Interrupted by user\"\u001b[0m\u001b[0;34m)\u001b[0m \u001b[0;32mfrom\u001b[0m \u001b[0;32mNone\u001b[0m\u001b[0;34m\u001b[0m\u001b[0;34m\u001b[0m\u001b[0m\n\u001b[0m\u001b[1;32m    896\u001b[0m             \u001b[0;32mexcept\u001b[0m \u001b[0mException\u001b[0m \u001b[0;32mas\u001b[0m \u001b[0me\u001b[0m\u001b[0;34m:\u001b[0m\u001b[0;34m\u001b[0m\u001b[0;34m\u001b[0m\u001b[0m\n\u001b[1;32m    897\u001b[0m                 \u001b[0mself\u001b[0m\u001b[0;34m.\u001b[0m\u001b[0mlog\u001b[0m\u001b[0;34m.\u001b[0m\u001b[0mwarning\u001b[0m\u001b[0;34m(\u001b[0m\u001b[0;34m\"Invalid Message:\"\u001b[0m\u001b[0;34m,\u001b[0m \u001b[0mexc_info\u001b[0m\u001b[0;34m=\u001b[0m\u001b[0;32mTrue\u001b[0m\u001b[0;34m)\u001b[0m\u001b[0;34m\u001b[0m\u001b[0;34m\u001b[0m\u001b[0m\n",
            "\u001b[0;31mKeyboardInterrupt\u001b[0m: Interrupted by user"
          ]
        }
      ]
    },
    {
      "cell_type": "markdown",
      "source": [
        "*** VIZUALIZATION USER DATA FOR ASSESSMENT ***"
      ],
      "metadata": {
        "id": "WFS85B34k81v"
      }
    }
  ],
  "metadata": {
    "colab": {
      "provenance": [],
      "include_colab_link": true
    },
    "kernelspec": {
      "display_name": "Python 3",
      "name": "python3"
    },
    "language_info": {
      "name": "python"
    }
  },
  "nbformat": 4,
  "nbformat_minor": 0
}