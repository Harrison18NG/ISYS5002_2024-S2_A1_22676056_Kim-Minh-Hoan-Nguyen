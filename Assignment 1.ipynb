{
  "cells": [
    {
      "cell_type": "markdown",
      "metadata": {
        "id": "view-in-github",
        "colab_type": "text"
      },
      "source": [
        "<a href=\"https://colab.research.google.com/github/Harrison18NG/ISYS5002_2024-S2_A1_22676056_Kim-Minh-Hoan-Nguyen/blob/main/Assignment%201.ipynb\" target=\"_parent\"><img src=\"https://colab.research.google.com/assets/colab-badge.svg\" alt=\"Open In Colab\"/></a>"
      ]
    },
    {
      "cell_type": "code",
      "source": [
        "#import csv module\n",
        "import csv"
      ],
      "metadata": {
        "id": "HzELdjjOlqYW"
      },
      "execution_count": null,
      "outputs": []
    },
    {
      "cell_type": "markdown",
      "source": [
        "*** Heart Prediction Risk Table ***\n",
        "\n"
      ],
      "metadata": {
        "id": "gdPyuSMuGqlT"
      }
    },
    {
      "cell_type": "code",
      "source": [
        "#Writing to a CSV file, using pandas to stored the heart prediction table for later used\n",
        "\n",
        "#open file and write records\n",
        "import pandas as pd\n",
        "\n",
        "data = {\n",
        "  \"BMI_Category\": [\"Underweight\", \"Underweight\",\"Underweight\",\"Underweight\",\"Underweight\",\"Underweight\",\"Underweight\",\"Underweight\",\n",
        "                      \"Normal\", \"Normal\", \"Normal\", \"Normal\", \"Normal\", \"Normal\", \"Normal\", \"Normal\",\n",
        "                      \"Overweight\", \"Overweight\", \"Overweight\", \"Overweight\", \"Overweight\", \"Overweight\", \"Overweight\", \"Overweight\",\n",
        "                      \"Obesity\", \"Obesity\", \"Obesity\", \"Obesity\", \"Obesity\", \"Obesity\",\"Obesity\", \"Obesity\"],\n",
        "\n",
        "    \"Smoking_Status\": [\"Non-smoker\",\"Non-smoker\",\"Non-smoker\",\"Non-smoker\",\n",
        "                        \"Smoker\",\"Smoker\",\"Smoker\",\"Smoker\",\n",
        "                        \"Non-smoker\",\"Non-smoker\",\"Non-smoker\",\"Non-smoker\",\n",
        "                        \"Smoker\",\"Smoker\",\"Smoker\",\"Smoker\",\n",
        "                        \"Non-smoker\",\"Non-smoker\",\"Non-smoker\",\"Non-smoker\",\n",
        "                        \"Smoker\",\"Smoker\",\"Smoker\",\"Smoker\",\n",
        "                         \"Non-smoker\",\"Non-smoker\",\"Non-smoker\",\"Non-smoker\",\n",
        "                        \"Smoker\",\"Smoker\",\"Smoker\",\"Smoker\"],\n",
        "\n",
        "    \"Alcohol_Assumption\": [ \"Non-drinker\",\"Non-drinker\",\"Drinker\",\"Drinker\",\n",
        "                            \"Non-drinker\",\"Non-drinker\",\"Drinker\",\"Drinker\",\n",
        "                            \"Non-drinker\",\"Non-drinker\",\"Drinker\",\"Drinker\",\n",
        "                            \"Non-drinker\",\"Non-drinker\",\"Drinker\",\"Drinker\",\n",
        "                            \"Non-drinker\",\"Non-drinker\",\"Drinker\",\"Drinker\",\n",
        "                            \"Non-drinker\",\"Non-drinker\",\"Drinker\",\"Drinker\",\n",
        "                            \"Non-drinker\",\"Non-drinker\",\"Drinker\",\"Drinker\",\n",
        "                            \"Non-drinker\",\"Non-drinker\",\"Drinker\",\"Drinker\"],\n",
        "\n",
        "     \"Physical_Activity_Status\": [\"Inactive\",\"Active\"]*16,\n",
        "\n",
        "     \"Heart_condition_risk\": [\"Medium\", \"Low\",\"Medium\", \"Low\",\"High\",\"High\",\"High\",\"High\",\n",
        "                              \"Medium\",\"Low\",\"Medium\",\"Low\",\"Medium\",\"Medium\",\"High\",\"Medium\",\n",
        "                              \"Medium\",\"Medium\",\"Medium\",\"Medium\",\"High\",\"High\",\"High\",\"High\",\n",
        "                              \"High\",\"High\",\"High\",\"High\",\"High\",\"High\",\"High\",\"High\"]}\n",
        "df = pd.DataFrame(data)\n",
        "df.to_csv(\"heart_condition_risk_data.csv\", index=False)\n",
        "print(df)\n",
        "\n",
        "\n"
      ],
      "metadata": {
        "id": "QHHhkU2aD6hU",
        "outputId": "705ee461-2875-4e9c-c0a1-a772a235f7dc",
        "colab": {
          "base_uri": "https://localhost:8080/"
        }
      },
      "execution_count": 3,
      "outputs": [
        {
          "output_type": "stream",
          "name": "stdout",
          "text": [
            "   BMI_Category Smoking_Status Alcohol_Assumption Physical_Activity_Status  \\\n",
            "0   Underweight     Non-smoker        Non-drinker                 Inactive   \n",
            "1   Underweight     Non-smoker        Non-drinker                   Active   \n",
            "2   Underweight     Non-smoker            Drinker                 Inactive   \n",
            "3   Underweight     Non-smoker            Drinker                   Active   \n",
            "4   Underweight         Smoker        Non-drinker                 Inactive   \n",
            "5   Underweight         Smoker        Non-drinker                   Active   \n",
            "6   Underweight         Smoker            Drinker                 Inactive   \n",
            "7   Underweight         Smoker            Drinker                   Active   \n",
            "8        Normal     Non-smoker        Non-drinker                 Inactive   \n",
            "9        Normal     Non-smoker        Non-drinker                   Active   \n",
            "10       Normal     Non-smoker            Drinker                 Inactive   \n",
            "11       Normal     Non-smoker            Drinker                   Active   \n",
            "12       Normal         Smoker        Non-drinker                 Inactive   \n",
            "13       Normal         Smoker        Non-drinker                   Active   \n",
            "14       Normal         Smoker            Drinker                 Inactive   \n",
            "15       Normal         Smoker            Drinker                   Active   \n",
            "16   Overweight     Non-smoker        Non-drinker                 Inactive   \n",
            "17   Overweight     Non-smoker        Non-drinker                   Active   \n",
            "18   Overweight     Non-smoker            Drinker                 Inactive   \n",
            "19   Overweight     Non-smoker            Drinker                   Active   \n",
            "20   Overweight         Smoker        Non-drinker                 Inactive   \n",
            "21   Overweight         Smoker        Non-drinker                   Active   \n",
            "22   Overweight         Smoker            Drinker                 Inactive   \n",
            "23   Overweight         Smoker            Drinker                   Active   \n",
            "24      Obesity     Non-smoker        Non-drinker                 Inactive   \n",
            "25      Obesity     Non-smoker        Non-drinker                   Active   \n",
            "26      Obesity     Non-smoker            Drinker                 Inactive   \n",
            "27      Obesity     Non-smoker            Drinker                   Active   \n",
            "28      Obesity         Smoker        Non-drinker                 Inactive   \n",
            "29      Obesity         Smoker        Non-drinker                   Active   \n",
            "30      Obesity         Smoker            Drinker                 Inactive   \n",
            "31      Obesity         Smoker            Drinker                   Active   \n",
            "\n",
            "   Heart_condition_risk  \n",
            "0                Medium  \n",
            "1                   Low  \n",
            "2                Medium  \n",
            "3                   Low  \n",
            "4                  High  \n",
            "5                  High  \n",
            "6                  High  \n",
            "7                  High  \n",
            "8                Medium  \n",
            "9                   Low  \n",
            "10               Medium  \n",
            "11                  Low  \n",
            "12               Medium  \n",
            "13               Medium  \n",
            "14                 High  \n",
            "15               Medium  \n",
            "16               Medium  \n",
            "17               Medium  \n",
            "18               Medium  \n",
            "19               Medium  \n",
            "20                 High  \n",
            "21                 High  \n",
            "22                 High  \n",
            "23                 High  \n",
            "24                 High  \n",
            "25                 High  \n",
            "26                 High  \n",
            "27                 High  \n",
            "28                 High  \n",
            "29                 High  \n",
            "30                 High  \n",
            "31                 High  \n"
          ]
        }
      ]
    },
    {
      "cell_type": "markdown",
      "source": [
        "### Generalise it - User Input Storage in File\n",
        "\n",
        "Collecting user input for analyzing"
      ],
      "metadata": {
        "id": "4uhKJwVJGfEh"
      }
    },
    {
      "cell_type": "code",
      "source": [
        "# Recording data from user for prediciton process\n",
        "def get_user_input():\n",
        "  data = []\n",
        "  while True:\n",
        "    height = float(input(\"Enter your height in meters: \"))\n",
        "    weight = float(input(\"Enter your weight in kilograms: \"))\n",
        "    smoking = input(\"Please enter your smoking status (Smoker, Non-smoker):\")\n",
        "    alcohol = input(\"Please enter your alcohol assumption (Drinker, Non-drinker):\")\n",
        "    activity = input(\"Please enter your physical activity status (Active, Inactive):\")\n",
        "    data.append([height, weight, smoking, alcohol, activity])\n",
        "    cont= input(\"Do you want to continue? (yes/no): \")\n",
        "    if cont.lower() != 'yes':\n",
        "      break\n",
        "  return height, weight, smoking, alcohol, activity\n",
        "#Calculate the bmi based on the height and weight data provided by user\n",
        "def calculate_bmi(height, weight):\n",
        "    bmi = weight / (height ** 2)\n",
        "    return bmi\n",
        "#Stored data to csv file\n",
        "def save_to_csv(data, filename=\"user_input.csv\"):\n",
        "  with open(filename, 'w', newline='') as file:\n",
        "    writer = csv.writer(file)\n",
        "    writer.writerow(['BMI_Category', 'Smoking_Status', 'Alcohol_Assumption', 'Physical_Activity_Status','Heart_Condition_Risk'])\n",
        "    writer.writerows(data)"
      ],
      "metadata": {
        "id": "y9nnaTCQJABT"
      },
      "execution_count": 4,
      "outputs": []
    },
    {
      "cell_type": "markdown",
      "source": [
        "*** Classify User based on BMI Calculation ***\n",
        "\n",
        "GEN AI tool: COLAB\n",
        "\n",
        "GEN AI PROMPT: Modify the code above to get the BMI Category\n",
        "\n",
        "GEN AI RESPONSE: Code generate by Colab - as below\n"
      ],
      "metadata": {
        "id": "ZjWtMgUNfygY"
      }
    },
    {
      "cell_type": "code",
      "source": [
        "# prompt: modify the code above to get the bmi category\n",
        "\n",
        "import csv\n",
        "import pandas as pd\n",
        "\n",
        "# ... (Existing code)\n",
        "# Classify bmi category based on the bmi calculation above\n",
        "def get_bmi_category(bmi):\n",
        "  if bmi < 18.5:\n",
        "    return \"Underweight\"\n",
        "  elif 18.5 <= bmi < 25:\n",
        "    return \"Normal\"\n",
        "  elif 25 <= bmi < 30:\n",
        "    return \"Overweight\"\n",
        "  else:\n",
        "    return \"Obesity\"\n",
        "def get_user_input():\n",
        "  data = []\n",
        "  while True:\n",
        "    height = float(input(\"Enter your height in meters: \"))\n",
        "    weight = float(input(\"Enter your weight in kilograms: \"))\n",
        "    smoking = input(\"Please enter your smoking status (Smoker, Non-smoker):\")\n",
        "    alcohol = input(\"Please enter your alcohol assumption (Drinker, Non-drinker):\")\n",
        "    activity = input(\"Please enter your physical activity status (Active, Inactive):\")\n",
        "    data.append([height, weight, smoking, alcohol, activity])\n",
        "\n",
        "    cont= input(\"Do you want to continue? (yes/no): \")\n",
        "    if cont.lower() != 'yes':\n",
        "      break\n",
        "  return height, weight, smoking, alcohol, activity\n",
        "\n",
        "# ... (Rest of the existing code)\n",
        "def calculate_bmi(height, weight):\n",
        "    bmi = weight / (height ** 2)\n",
        "    print(\"Your bmi is\", bmi)\n",
        "    return bmi\n",
        "def save_to_csv(data, filename=\"user_input.csv\"):\n",
        "  with open(filename, 'w', newline='') as file:\n",
        "    writer = csv.writer(file)\n",
        "    writer.writerow(['BMI_Category', 'Smoking_Status', 'Alcohol_Assumption', 'Physical_Activity_Status','Heart_Condition_Risk'])\n",
        "    writer.writerows(data)"
      ],
      "metadata": {
        "id": "hS4CTcxiFKLU"
      },
      "execution_count": 5,
      "outputs": []
    },
    {
      "cell_type": "code",
      "source": [
        "height, weight, smoking, alcohol, activity = get_user_input()\n",
        "bmi = calculate_bmi(height, weight)\n",
        "print(f\"Your BMI category is: {get_bmi_category(bmi)} \")\n"
      ],
      "metadata": {
        "id": "vhUb4sEVSWV4",
        "outputId": "a92f942b-e3be-4122-82fa-1e97902eb338",
        "colab": {
          "base_uri": "https://localhost:8080/"
        }
      },
      "execution_count": 38,
      "outputs": [
        {
          "output_type": "stream",
          "name": "stdout",
          "text": [
            "Enter your height in meters: 1.8\n",
            "Enter your weight in kilograms: 70\n",
            "Please enter your smoking status (Smoker, Non-smoker):Smoker\n",
            "Please enter your alcohol assumption (Drinker, Non-drinker):Drinker\n",
            "Please enter your physical activity status (Active, Inactive):Active\n",
            "Your bmi is 21.604938271604937\n",
            "Do you want to continue? (yes/no): no\n",
            "Your bmi is 21.604938271604937\n",
            "Your BMI category is: Normal \n"
          ]
        }
      ]
    },
    {
      "cell_type": "markdown",
      "source": [
        "GEN AI EFFECTIVENESS:\n",
        "```\n",
        "def get_bmi_category(bmi):                                                                  \n",
        "  if bmi < 18.5:\n",
        "\n",
        "    return \"Underweight\"\n",
        "  elif 18.5 <= bmi < 25:\n",
        "\n",
        "    return \"Normal weight\"\n",
        "  elif 25 <= bmi < 30:\n",
        "\n",
        "    return \"Overweight\"\n",
        "  else:\n",
        "  \n",
        "    return \"Obesity\"\n",
        "```"
      ],
      "metadata": {
        "id": "KXv3p3Q-gUM2"
      }
    },
    {
      "cell_type": "markdown",
      "source": [
        "*** Matching User input with Heart Prediciton Risk Table ***\n",
        "\n",
        "GEN AI TOOL: COLAB\n",
        "\n",
        "GEN AI PROMPT: Modify the code above to match the user data with heart risk prediction table\n",
        "\n",
        "GEN AI RESPONSE: Code generate by Colab AI - as below\n",
        "\n",
        "\n"
      ],
      "metadata": {
        "id": "2dUwv3HSj5NY"
      }
    },
    {
      "cell_type": "code",
      "source": [
        "# prompt: Modify the code above to match the user data with heart risk prediction table\n",
        "\n",
        "import pandas as pd\n",
        "def predict_heart_risk(bmi_category, smoking, alcohol, activity):\n",
        "  # Load the heart risk prediction table (replace with actual loading logic)\n",
        "  df = pd.read_csv(\"heart_condition_risk_data.csv\")\n",
        "\n",
        "  # Filter the table based on user input\n",
        "  matching_rows = df[\n",
        "      (df['BMI_Category'] == bmi_category) &\n",
        "      (df['Smoking_Status'] == smoking) &\n",
        "      (df['Alcohol_Assumption'] == alcohol) &\n",
        "      (df['Physical_Activity_Status'] == activity)\n",
        "  ]\n",
        "\n",
        "  # Determine the risk level\n",
        "  if matching_rows.empty:\n",
        "    return \"Unknown\"\n",
        "  else:\n",
        "    return matching_rows['Heart_condition_risk'].iloc[0]\n",
        "\n",
        "# ... (Rest of the existing code)\n",
        "\n",
        "height, weight, smoking, alcohol, activity = get_user_input()\n",
        "bmi = calculate_bmi(height, weight)\n",
        "bmi_category = get_bmi_category(bmi)\n",
        "risk = predict_heart_risk(bmi_category, smoking, alcohol, activity)\n",
        "print(f\"Your BMI category is: {bmi_category}\")\n",
        "print(f\"Your predicted heart condition risk is: {risk}\")\n"
      ],
      "metadata": {
        "colab": {
          "base_uri": "https://localhost:8080/"
        },
        "id": "7jQdjKlwhR8C",
        "outputId": "74a74502-c259-46b1-9213-ecc09f2de2cc"
      },
      "execution_count": 7,
      "outputs": [
        {
          "output_type": "stream",
          "name": "stdout",
          "text": [
            "Enter your height in meters: 1.7\n",
            "Enter your weight in kilograms: 70\n",
            "Please enter your smoking status (Smoker, Non-smoker):Non-smoker\n",
            "Please enter your alcohol assumption (Drinker, Non-drinker):Non-drinker\n",
            "Please enter your physical activity status (Active, Inactive):Active\n",
            "Do you want to continue? (yes/no): no\n",
            "Your bmi is 24.221453287197235\n",
            "Your BMI category is: Normal\n",
            "Your predicted heart condition risk is: Low\n"
          ]
        }
      ]
    },
    {
      "cell_type": "markdown",
      "source": [
        "GEN AI EFFECTIVENESS:\n",
        "```\n",
        "import pandas as pd\n",
        "\n",
        "def predict_heart_risk(bmi_category, smoking, alcohol, activity):\n",
        "\n",
        "df = pd.read_csv(\"heart_condition_risk_data.csv\")\n",
        "\n",
        "  # Filter the table based on user input\n",
        "\n",
        "  matching_rows = df[\n",
        "      (df['BMI_Category'] == bmi_category) &\n",
        "      (df['Smoking_Status'] == smoking) &\n",
        "      (df['Alcohol_Assumption'] == alcohol) &\n",
        "      (df['Physical_Activity_Status'] == activity) ]\n",
        "\n",
        "  # Determine the risk level\n",
        "\n",
        "  if matching_rows.empty:\n",
        "\n",
        "    return \"Unknown\"\n",
        "\n",
        "  else:\n",
        "\n",
        "    return matching_rows['Heart_condition_risk'].iloc[0]\n",
        "```"
      ],
      "metadata": {
        "id": "lrIqstLRkbqq"
      }
    },
    {
      "cell_type": "markdown",
      "source": [
        "*** Storing user data into csv file ***\n",
        "\n",
        "GEN AI TOOL: COLAB\n",
        "\n",
        "GEN AI PROMPT: Modify the code above to fix the row and collum when storing user input into csv file\n",
        "\n",
        "GEN AI RESPONSE: Code generate by Colab AI - as below"
      ],
      "metadata": {
        "id": "GUuS_Mnp5Wfx"
      }
    },
    {
      "cell_type": "code",
      "source": [
        "# prompt: Modify the code above to fix the row and collum when storing user input into csv file\n",
        "\n",
        "import csv\n",
        "import pandas as pd\n",
        "\n",
        "# ... (Existing code)\n",
        "\n",
        "# Recording data from user for prediciton process\n",
        "def get_user_input():\n",
        "  data = []\n",
        "  while True:\n",
        "    height = float(input(\"Enter your height in meters: \"))\n",
        "    weight = float(input(\"Enter your weight in kilograms: \"))\n",
        "    smoking = input(\"Please enter your smoking status (Smoker, Non-smoker):\")\n",
        "    alcohol = input(\"Please enter your alcohol assumption (Drinker, Non-drinker):\")\n",
        "    activity = input(\"Please enter your physical activity status (Active, Inactive):\")\n",
        "\n",
        "    bmi = calculate_bmi(height, weight)\n",
        "    bmi_category = get_bmi_category(bmi)\n",
        "    risk = predict_heart_risk(bmi_category, smoking, alcohol, activity)\n",
        "\n",
        "    data.append([bmi_category, smoking, alcohol, activity, risk])\n",
        "\n",
        "    cont= input(\"Do you want to continue? (yes/no): \")\n",
        "    if cont.lower() != 'yes':\n",
        "      break\n",
        "  return data\n",
        "\n",
        "# ... (Rest of the existing code)\n",
        "\n",
        "data = get_user_input()\n",
        "save_to_csv(data, filename=\"user_input.csv\")\n",
        "print(f\"Your BMI category is: {bmi_category}\")\n",
        "print(f\"Your predicted heart condition risk is: {risk}\")"
      ],
      "metadata": {
        "colab": {
          "base_uri": "https://localhost:8080/"
        },
        "id": "s7B8ota31Oly",
        "outputId": "47baacbd-0d58-45ff-94f1-12d3c69dac82"
      },
      "execution_count": 8,
      "outputs": [
        {
          "output_type": "stream",
          "name": "stdout",
          "text": [
            "Enter your height in meters: 1.80\n",
            "Enter your weight in kilograms: 90\n",
            "Please enter your smoking status (Smoker, Non-smoker):Smoker\n",
            "Please enter your alcohol assumption (Drinker, Non-drinker):Drinker\n",
            "Please enter your physical activity status (Active, Inactive):Inactive\n",
            "Your bmi is 27.777777777777775\n",
            "Do you want to continue? (yes/no): yes\n",
            "Enter your height in meters: 1.80\n",
            "Enter your weight in kilograms: 88\n",
            "Please enter your smoking status (Smoker, Non-smoker):Smoker\n",
            "Please enter your alcohol assumption (Drinker, Non-drinker):Drinker\n",
            "Please enter your physical activity status (Active, Inactive):Active\n",
            "Your bmi is 27.160493827160494\n",
            "Do you want to continue? (yes/no): yes\n",
            "Enter your height in meters: 1.8\n",
            "Enter your weight in kilograms: 85\n",
            "Please enter your smoking status (Smoker, Non-smoker):Non-smoker\n",
            "Please enter your alcohol assumption (Drinker, Non-drinker):Drinker\n",
            "Please enter your physical activity status (Active, Inactive):Active\n",
            "Your bmi is 26.234567901234566\n",
            "Do you want to continue? (yes/no): yes\n",
            "Enter your height in meters: 1.8\n",
            "Enter your weight in kilograms: 80\n",
            "Please enter your smoking status (Smoker, Non-smoker):Non-smoker\n",
            "Please enter your alcohol assumption (Drinker, Non-drinker):Non-drinker\n",
            "Please enter your physical activity status (Active, Inactive):Active\n",
            "Your bmi is 24.691358024691358\n",
            "Do you want to continue? (yes/no): yes\n",
            "Enter your height in meters: 1.8\n",
            "Enter your weight in kilograms: 75\n",
            "Please enter your smoking status (Smoker, Non-smoker):Non-smoker\n",
            "Please enter your alcohol assumption (Drinker, Non-drinker):Non-drinker\n",
            "Please enter your physical activity status (Active, Inactive):Active\n",
            "Your bmi is 23.148148148148145\n",
            "Do you want to continue? (yes/no): yes\n",
            "Enter your height in meters: 1.8\n",
            "Enter your weight in kilograms: 70\n",
            "Please enter your smoking status (Smoker, Non-smoker):Smoker\n",
            "Please enter your alcohol assumption (Drinker, Non-drinker):Non-drinker\n",
            "Please enter your physical activity status (Active, Inactive):Inactive\n",
            "Your bmi is 21.604938271604937\n",
            "Do you want to continue? (yes/no): yes\n",
            "Enter your height in meters: 1.8\n",
            "Enter your weight in kilograms: 68\n",
            "Please enter your smoking status (Smoker, Non-smoker):Smoker\n",
            "Please enter your alcohol assumption (Drinker, Non-drinker):Non-drinker\n",
            "Please enter your physical activity status (Active, Inactive):Active\n",
            "Your bmi is 20.98765432098765\n",
            "Do you want to continue? (yes/no): no\n",
            "Your BMI category is: Normal\n",
            "Your predicted heart condition risk is: Low\n"
          ]
        }
      ]
    },
    {
      "cell_type": "markdown",
      "source": [
        "GEN AI EFFECTIVENESS:\n",
        "```\n",
        "data = get_user_input()\n",
        "save_to_csv(data, filename=\"user_input.csv\")\n",
        "```"
      ],
      "metadata": {
        "id": "h21JF2ld5uGH"
      }
    },
    {
      "cell_type": "markdown",
      "source": [
        "*** VIZUALIZATION USER DATA FOR ASSESSMENT ***"
      ],
      "metadata": {
        "id": "WFS85B34k81v"
      }
    },
    {
      "cell_type": "markdown",
      "source": [
        "During this assignment, my goals was to establish an application in order to help healthcare professional and clients predict the likelihood of heart risk based on demographic data, lifestyle, and health metric factors. At the beginning, I developed a plan to collect user data using function “def get_user_input()” such as height and weight to compute the BMI calculation, using function “calculate_bmi(height, weight)” with: BMI = weight / (height *2), and collect their Smoking status, Drinking status, and Physical Activity Status.  After compute BMI, clients will be classified into different categories based on their bmi data by function “def get_bmi_category(bmi)”, for example bmi < 18.5 is “Underweight”, 18.5<= bmi <25 is “Normal”, 25 < bmi <=30 is “Overweight”, and the other is “Obesity”.  Then, this information will be assessed with all possible outcomes in the heart prediction risk table data. If user data match with available data in heart prediction risk table using “def predict_heart_risk(bmi_category, smoking, alcohol, activity)”, the result will determine the heart risk condition of the user that match with heart prediction risk table, whilst returning “unknown”. In this step, “pandas” and “csv” were used to stored user information into a csv file for analysing. Lastly user input will convert into visualizations using  “matplotlib.pyplot” to visualize the correlation between user bmi categories and lifestyle factors affecting heart risk prediction.\n",
        "\n",
        "It can be denied a huge benefit of AI in learning coding in pre-class, in-class and post-class activities. To complete this task, I mainly used Colab AI as the source of generating data.  There are numerous advantages that AI can bring to programming field such as providing instant explanations, for example whenever dealing with new syntax concept, AI provides a clear and detailed explanation of the meaning of that syntax or concept, therefore, I can understand the function of that syntax and easily apply for future use. Most importantly, it can generate code snippets based on my prompts or problems. For instance, I need to get bmi category based on the user’s bmi calculation or  match the user data with provided heart prediction risk table, Colab AI generates code snippers and from that it saves me a lot of time while still understand the underlying logic. However, from my personal experience, the role of human instructors cannot be replaced by technology.  Under learning perspectives, AI can help to provide code but there are not always the most efficient and effective solutions for the problems. I believe that with the knowledge and experience throughout many years, the instructor can provide the most detailed and creative way that specifically addresses the issues that learner might have. Moreover, another critical limitation of AI is they cannot offer feedback or personalized guidance, which really important for every learner. Nonetheless, with the assistance of instructors and the help of AI, my assignment has improved in many ways. During this assignment, I found that the function of AI is extremely useful whenever I need to explain the meaning of each syntax. For example, I ask AI about the function of “data.append([height, weight, smoking, alcohol, activity,])” , which they offered a detailed description each element in the syntax, how they affect my code, and what they can be used for. In contrast, I have faced several problems when using AI. It can be seen that, AI sometimes cannot fully understand the concept of what I am doing, as a result it may generate invalid syntax for my code. What I have done to solve this issues was to had a look back to all my lecture as well as prompt the questions into the discussion board so that the professor can provide me a clear guidance to address my challenges. Additionally, through documenting GEN AI interactions (prompt, response, effectiveness, modification), I can better utilize the advantages of GEN AI while finding a proper solution for the limitations of this Artificial Intelligence. For example, when prompt AI to modify the code to ask whether user want to continue typing input, AI has effectively generated the code for the issue. However, this code is restrictive in the sense that for 'no', it does not accept n, N, which users might naturally enter. As a result, modification is necessary to check for all the possible input that user might use.\n"
      ],
      "metadata": {
        "id": "Zk2Y7zrQ1hCC"
      }
    }
  ],
  "metadata": {
    "colab": {
      "provenance": [],
      "include_colab_link": true
    },
    "kernelspec": {
      "display_name": "Python 3",
      "name": "python3"
    },
    "language_info": {
      "name": "python"
    }
  },
  "nbformat": 4,
  "nbformat_minor": 0
}